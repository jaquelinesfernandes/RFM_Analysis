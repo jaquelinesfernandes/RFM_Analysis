{
 "cells": [
  {
   "cell_type": "markdown",
   "metadata": {},
   "source": [
    "## Project RFM Analysis\n",
    "\n",
    "#### Este projeto envolve a aplicação da análise RFM (Recency, Frequency, Monetary Value) para segmentar clientes e avaliar seu comportamento de compra em uma empresa de ecommerce.\n",
    "\n",
    "Dataset: https://www.kaggle.com/datasets/olistbr/brazilian-ecommerce"
   ]
  },
  {
   "cell_type": "code",
   "execution_count": 10,
   "metadata": {},
   "outputs": [],
   "source": [
    "# Installs\n",
    "# https://pypi.org/project/squarify/\n",
    "!pip install -q squarify"
   ]
  },
  {
   "cell_type": "code",
   "execution_count": 11,
   "metadata": {},
   "outputs": [],
   "source": [
    "# Imports\n",
    "import sklearn\n",
    "import squarify\n",
    "import pandas as pd\n",
    "import seaborn as sns\n",
    "import plotly.graph_objects as go\n",
    "import matplotlib.pyplot as plt\n",
    "from sklearn.preprocessing import LabelEncoder\n",
    "from datetime import datetime, timedelta"
   ]
  },
  {
   "cell_type": "code",
   "execution_count": 12,
   "metadata": {},
   "outputs": [],
   "source": [
    "# Import dataset\n",
    "data = pd.read_csv('dataset.csv')"
   ]
  },
  {
   "cell_type": "code",
   "execution_count": 13,
   "metadata": {},
   "outputs": [
    {
     "data": {
      "text/html": [
       "<div>\n",
       "<style scoped>\n",
       "    .dataframe tbody tr th:only-of-type {\n",
       "        vertical-align: middle;\n",
       "    }\n",
       "\n",
       "    .dataframe tbody tr th {\n",
       "        vertical-align: top;\n",
       "    }\n",
       "\n",
       "    .dataframe thead th {\n",
       "        text-align: right;\n",
       "    }\n",
       "</style>\n",
       "<table border=\"1\" class=\"dataframe\">\n",
       "  <thead>\n",
       "    <tr style=\"text-align: right;\">\n",
       "      <th></th>\n",
       "      <th>order_id</th>\n",
       "      <th>order_id3</th>\n",
       "      <th>customer_id3</th>\n",
       "      <th>order_status</th>\n",
       "      <th>order_purchase_timestamp</th>\n",
       "      <th>order_approved_at</th>\n",
       "      <th>order_delivered_carrier_date</th>\n",
       "      <th>order_delivered_customer_date</th>\n",
       "      <th>order_estimated_delivery_date</th>\n",
       "      <th>order_item_id</th>\n",
       "      <th>...</th>\n",
       "      <th>seller_city</th>\n",
       "      <th>seller_state</th>\n",
       "      <th>product_category_name_english</th>\n",
       "      <th>review_response_time</th>\n",
       "      <th>order_purchase_year</th>\n",
       "      <th>order_purchase_month</th>\n",
       "      <th>order_purchase_dayofweek</th>\n",
       "      <th>order_purchase_hour</th>\n",
       "      <th>order_purchase_day</th>\n",
       "      <th>order_purchase_mon</th>\n",
       "    </tr>\n",
       "  </thead>\n",
       "  <tbody>\n",
       "    <tr>\n",
       "      <th>0</th>\n",
       "      <td>ON34305</td>\n",
       "      <td>e481f51cbdc54678b7cc49136f2d6af7</td>\n",
       "      <td>9ef432eb6251297304e76186b10a928d</td>\n",
       "      <td>delivered</td>\n",
       "      <td>2017-10-02 10:56:33</td>\n",
       "      <td>2017-10-02 11:07:15</td>\n",
       "      <td>2017-10-04 19:55:00</td>\n",
       "      <td>2017-10-10 21:25:13</td>\n",
       "      <td>2017-10-18 00:00:00</td>\n",
       "      <td>1.0</td>\n",
       "      <td>...</td>\n",
       "      <td>Maua</td>\n",
       "      <td>SP</td>\n",
       "      <td>housewares</td>\n",
       "      <td>1.0</td>\n",
       "      <td>2017</td>\n",
       "      <td>10</td>\n",
       "      <td>0</td>\n",
       "      <td>10</td>\n",
       "      <td>Mon</td>\n",
       "      <td>Oct</td>\n",
       "    </tr>\n",
       "    <tr>\n",
       "      <th>1</th>\n",
       "      <td>ON34305</td>\n",
       "      <td>e481f51cbdc54678b7cc49136f2d6af7</td>\n",
       "      <td>9ef432eb6251297304e76186b10a928d</td>\n",
       "      <td>delivered</td>\n",
       "      <td>2017-10-02 10:56:33</td>\n",
       "      <td>2017-10-02 11:07:15</td>\n",
       "      <td>2017-10-04 19:55:00</td>\n",
       "      <td>2017-10-10 21:25:13</td>\n",
       "      <td>2017-10-18 00:00:00</td>\n",
       "      <td>1.0</td>\n",
       "      <td>...</td>\n",
       "      <td>Maua</td>\n",
       "      <td>SP</td>\n",
       "      <td>housewares</td>\n",
       "      <td>1.0</td>\n",
       "      <td>2017</td>\n",
       "      <td>10</td>\n",
       "      <td>0</td>\n",
       "      <td>10</td>\n",
       "      <td>Mon</td>\n",
       "      <td>Oct</td>\n",
       "    </tr>\n",
       "    <tr>\n",
       "      <th>2</th>\n",
       "      <td>ON34305</td>\n",
       "      <td>e481f51cbdc54678b7cc49136f2d6af7</td>\n",
       "      <td>9ef432eb6251297304e76186b10a928d</td>\n",
       "      <td>delivered</td>\n",
       "      <td>2017-10-02 10:56:33</td>\n",
       "      <td>2017-10-02 11:07:15</td>\n",
       "      <td>2017-10-04 19:55:00</td>\n",
       "      <td>2017-10-10 21:25:13</td>\n",
       "      <td>2017-10-18 00:00:00</td>\n",
       "      <td>1.0</td>\n",
       "      <td>...</td>\n",
       "      <td>Maua</td>\n",
       "      <td>SP</td>\n",
       "      <td>housewares</td>\n",
       "      <td>1.0</td>\n",
       "      <td>2017</td>\n",
       "      <td>10</td>\n",
       "      <td>0</td>\n",
       "      <td>10</td>\n",
       "      <td>Mon</td>\n",
       "      <td>Oct</td>\n",
       "    </tr>\n",
       "    <tr>\n",
       "      <th>3</th>\n",
       "      <td>ON40291</td>\n",
       "      <td>128e10d95713541c87cd1a2e48201934</td>\n",
       "      <td>a20e8105f23924cd00833fd87daa0831</td>\n",
       "      <td>delivered</td>\n",
       "      <td>2017-08-15 18:29:31</td>\n",
       "      <td>2017-08-15 20:05:16</td>\n",
       "      <td>2017-08-17 15:28:33</td>\n",
       "      <td>2017-08-18 14:44:43</td>\n",
       "      <td>2017-08-28 00:00:00</td>\n",
       "      <td>1.0</td>\n",
       "      <td>...</td>\n",
       "      <td>Maua</td>\n",
       "      <td>SP</td>\n",
       "      <td>housewares</td>\n",
       "      <td>1.0</td>\n",
       "      <td>2017</td>\n",
       "      <td>8</td>\n",
       "      <td>1</td>\n",
       "      <td>18</td>\n",
       "      <td>Tue</td>\n",
       "      <td>Aug</td>\n",
       "    </tr>\n",
       "    <tr>\n",
       "      <th>4</th>\n",
       "      <td>ON74313</td>\n",
       "      <td>0e7e841ddf8f8f2de2bad69267ecfbcf</td>\n",
       "      <td>26c7ac168e1433912a51b924fbd34d34</td>\n",
       "      <td>delivered</td>\n",
       "      <td>2017-08-02 18:24:47</td>\n",
       "      <td>2017-08-02 18:43:15</td>\n",
       "      <td>2017-08-04 17:35:43</td>\n",
       "      <td>2017-08-07 18:30:01</td>\n",
       "      <td>2017-08-15 00:00:00</td>\n",
       "      <td>1.0</td>\n",
       "      <td>...</td>\n",
       "      <td>Maua</td>\n",
       "      <td>SP</td>\n",
       "      <td>housewares</td>\n",
       "      <td>0.0</td>\n",
       "      <td>2017</td>\n",
       "      <td>8</td>\n",
       "      <td>2</td>\n",
       "      <td>18</td>\n",
       "      <td>Wed</td>\n",
       "      <td>Aug</td>\n",
       "    </tr>\n",
       "    <tr>\n",
       "      <th>5</th>\n",
       "      <td>ON09812</td>\n",
       "      <td>bfc39df4f36c3693ff3b63fcbea9e90a</td>\n",
       "      <td>53904ddbea91e1e92b2b3f1d09a7af86</td>\n",
       "      <td>delivered</td>\n",
       "      <td>2017-10-23 23:26:46</td>\n",
       "      <td>2017-10-25 02:14:11</td>\n",
       "      <td>2017-10-27 16:48:46</td>\n",
       "      <td>2017-11-07 18:04:59</td>\n",
       "      <td>2017-11-13 00:00:00</td>\n",
       "      <td>1.0</td>\n",
       "      <td>...</td>\n",
       "      <td>Maua</td>\n",
       "      <td>SP</td>\n",
       "      <td>housewares</td>\n",
       "      <td>2.0</td>\n",
       "      <td>2017</td>\n",
       "      <td>10</td>\n",
       "      <td>0</td>\n",
       "      <td>23</td>\n",
       "      <td>Mon</td>\n",
       "      <td>Oct</td>\n",
       "    </tr>\n",
       "    <tr>\n",
       "      <th>6</th>\n",
       "      <td>ON35147</td>\n",
       "      <td>5f49f31e537f8f1a496454b48edbe34d</td>\n",
       "      <td>a7260a6ccba78544ccfaf43f920b7240</td>\n",
       "      <td>delivered</td>\n",
       "      <td>2017-08-24 11:31:28</td>\n",
       "      <td>2017-08-24 11:45:25</td>\n",
       "      <td>2017-08-25 14:17:55</td>\n",
       "      <td>2017-08-28 20:12:20</td>\n",
       "      <td>2017-09-14 00:00:00</td>\n",
       "      <td>2.0</td>\n",
       "      <td>...</td>\n",
       "      <td>Maua</td>\n",
       "      <td>SP</td>\n",
       "      <td>housewares</td>\n",
       "      <td>1.0</td>\n",
       "      <td>2017</td>\n",
       "      <td>8</td>\n",
       "      <td>3</td>\n",
       "      <td>11</td>\n",
       "      <td>Thu</td>\n",
       "      <td>Aug</td>\n",
       "    </tr>\n",
       "    <tr>\n",
       "      <th>7</th>\n",
       "      <td>ON68327</td>\n",
       "      <td>1fa40f202d5d233b6491e976c557b822</td>\n",
       "      <td>50fd5707c28d0a64dc20d67f937dd9ba</td>\n",
       "      <td>delivered</td>\n",
       "      <td>2017-09-23 22:11:10</td>\n",
       "      <td>2017-09-23 22:25:11</td>\n",
       "      <td>2017-09-26 17:27:54</td>\n",
       "      <td>2017-10-19 21:09:21</td>\n",
       "      <td>2017-11-13 00:00:00</td>\n",
       "      <td>1.0</td>\n",
       "      <td>...</td>\n",
       "      <td>Maua</td>\n",
       "      <td>SP</td>\n",
       "      <td>housewares</td>\n",
       "      <td>3.0</td>\n",
       "      <td>2017</td>\n",
       "      <td>9</td>\n",
       "      <td>5</td>\n",
       "      <td>22</td>\n",
       "      <td>Sat</td>\n",
       "      <td>Sep</td>\n",
       "    </tr>\n",
       "    <tr>\n",
       "      <th>8</th>\n",
       "      <td>ON21665</td>\n",
       "      <td>41c045db2d1876be9f05cf4a787693b2</td>\n",
       "      <td>a286f46d6e54cc0179bbb0ee07b0df5e</td>\n",
       "      <td>delivered</td>\n",
       "      <td>2017-08-16 14:06:30</td>\n",
       "      <td>2017-08-16 14:55:20</td>\n",
       "      <td>2017-08-18 15:41:40</td>\n",
       "      <td>2017-08-21 15:05:13</td>\n",
       "      <td>2017-08-29 00:00:00</td>\n",
       "      <td>1.0</td>\n",
       "      <td>...</td>\n",
       "      <td>Maua</td>\n",
       "      <td>SP</td>\n",
       "      <td>housewares</td>\n",
       "      <td>4.0</td>\n",
       "      <td>2017</td>\n",
       "      <td>8</td>\n",
       "      <td>2</td>\n",
       "      <td>14</td>\n",
       "      <td>Wed</td>\n",
       "      <td>Aug</td>\n",
       "    </tr>\n",
       "    <tr>\n",
       "      <th>9</th>\n",
       "      <td>ON18014</td>\n",
       "      <td>a60241fca336b3f14485dff30a172cab</td>\n",
       "      <td>2a3caad976ff659d519660a7c9357122</td>\n",
       "      <td>delivered</td>\n",
       "      <td>2018-07-27 22:05:26</td>\n",
       "      <td>2018-07-27 22:24:21</td>\n",
       "      <td>2018-07-30 09:15:00</td>\n",
       "      <td>2018-08-02 13:45:01</td>\n",
       "      <td>2018-08-20 00:00:00</td>\n",
       "      <td>1.0</td>\n",
       "      <td>...</td>\n",
       "      <td>Limeira</td>\n",
       "      <td>SP</td>\n",
       "      <td>housewares</td>\n",
       "      <td>0.0</td>\n",
       "      <td>2018</td>\n",
       "      <td>7</td>\n",
       "      <td>4</td>\n",
       "      <td>22</td>\n",
       "      <td>Fri</td>\n",
       "      <td>Jul</td>\n",
       "    </tr>\n",
       "  </tbody>\n",
       "</table>\n",
       "<p>10 rows × 53 columns</p>\n",
       "</div>"
      ],
      "text/plain": [
       "  order_id                         order_id3  \\\n",
       "0  ON34305  e481f51cbdc54678b7cc49136f2d6af7   \n",
       "1  ON34305  e481f51cbdc54678b7cc49136f2d6af7   \n",
       "2  ON34305  e481f51cbdc54678b7cc49136f2d6af7   \n",
       "3  ON40291  128e10d95713541c87cd1a2e48201934   \n",
       "4  ON74313  0e7e841ddf8f8f2de2bad69267ecfbcf   \n",
       "5  ON09812  bfc39df4f36c3693ff3b63fcbea9e90a   \n",
       "6  ON35147  5f49f31e537f8f1a496454b48edbe34d   \n",
       "7  ON68327  1fa40f202d5d233b6491e976c557b822   \n",
       "8  ON21665  41c045db2d1876be9f05cf4a787693b2   \n",
       "9  ON18014  a60241fca336b3f14485dff30a172cab   \n",
       "\n",
       "                       customer_id3 order_status order_purchase_timestamp  \\\n",
       "0  9ef432eb6251297304e76186b10a928d    delivered      2017-10-02 10:56:33   \n",
       "1  9ef432eb6251297304e76186b10a928d    delivered      2017-10-02 10:56:33   \n",
       "2  9ef432eb6251297304e76186b10a928d    delivered      2017-10-02 10:56:33   \n",
       "3  a20e8105f23924cd00833fd87daa0831    delivered      2017-08-15 18:29:31   \n",
       "4  26c7ac168e1433912a51b924fbd34d34    delivered      2017-08-02 18:24:47   \n",
       "5  53904ddbea91e1e92b2b3f1d09a7af86    delivered      2017-10-23 23:26:46   \n",
       "6  a7260a6ccba78544ccfaf43f920b7240    delivered      2017-08-24 11:31:28   \n",
       "7  50fd5707c28d0a64dc20d67f937dd9ba    delivered      2017-09-23 22:11:10   \n",
       "8  a286f46d6e54cc0179bbb0ee07b0df5e    delivered      2017-08-16 14:06:30   \n",
       "9  2a3caad976ff659d519660a7c9357122    delivered      2018-07-27 22:05:26   \n",
       "\n",
       "     order_approved_at order_delivered_carrier_date  \\\n",
       "0  2017-10-02 11:07:15          2017-10-04 19:55:00   \n",
       "1  2017-10-02 11:07:15          2017-10-04 19:55:00   \n",
       "2  2017-10-02 11:07:15          2017-10-04 19:55:00   \n",
       "3  2017-08-15 20:05:16          2017-08-17 15:28:33   \n",
       "4  2017-08-02 18:43:15          2017-08-04 17:35:43   \n",
       "5  2017-10-25 02:14:11          2017-10-27 16:48:46   \n",
       "6  2017-08-24 11:45:25          2017-08-25 14:17:55   \n",
       "7  2017-09-23 22:25:11          2017-09-26 17:27:54   \n",
       "8  2017-08-16 14:55:20          2017-08-18 15:41:40   \n",
       "9  2018-07-27 22:24:21          2018-07-30 09:15:00   \n",
       "\n",
       "  order_delivered_customer_date order_estimated_delivery_date  order_item_id  \\\n",
       "0           2017-10-10 21:25:13           2017-10-18 00:00:00            1.0   \n",
       "1           2017-10-10 21:25:13           2017-10-18 00:00:00            1.0   \n",
       "2           2017-10-10 21:25:13           2017-10-18 00:00:00            1.0   \n",
       "3           2017-08-18 14:44:43           2017-08-28 00:00:00            1.0   \n",
       "4           2017-08-07 18:30:01           2017-08-15 00:00:00            1.0   \n",
       "5           2017-11-07 18:04:59           2017-11-13 00:00:00            1.0   \n",
       "6           2017-08-28 20:12:20           2017-09-14 00:00:00            2.0   \n",
       "7           2017-10-19 21:09:21           2017-11-13 00:00:00            1.0   \n",
       "8           2017-08-21 15:05:13           2017-08-29 00:00:00            1.0   \n",
       "9           2018-08-02 13:45:01           2018-08-20 00:00:00            1.0   \n",
       "\n",
       "   ... seller_city seller_state product_category_name_english  \\\n",
       "0  ...        Maua           SP                    housewares   \n",
       "1  ...        Maua           SP                    housewares   \n",
       "2  ...        Maua           SP                    housewares   \n",
       "3  ...        Maua           SP                    housewares   \n",
       "4  ...        Maua           SP                    housewares   \n",
       "5  ...        Maua           SP                    housewares   \n",
       "6  ...        Maua           SP                    housewares   \n",
       "7  ...        Maua           SP                    housewares   \n",
       "8  ...        Maua           SP                    housewares   \n",
       "9  ...     Limeira           SP                    housewares   \n",
       "\n",
       "   review_response_time  order_purchase_year  order_purchase_month  \\\n",
       "0                   1.0                 2017                    10   \n",
       "1                   1.0                 2017                    10   \n",
       "2                   1.0                 2017                    10   \n",
       "3                   1.0                 2017                     8   \n",
       "4                   0.0                 2017                     8   \n",
       "5                   2.0                 2017                    10   \n",
       "6                   1.0                 2017                     8   \n",
       "7                   3.0                 2017                     9   \n",
       "8                   4.0                 2017                     8   \n",
       "9                   0.0                 2018                     7   \n",
       "\n",
       "  order_purchase_dayofweek  order_purchase_hour  order_purchase_day  \\\n",
       "0                        0                   10                 Mon   \n",
       "1                        0                   10                 Mon   \n",
       "2                        0                   10                 Mon   \n",
       "3                        1                   18                 Tue   \n",
       "4                        2                   18                 Wed   \n",
       "5                        0                   23                 Mon   \n",
       "6                        3                   11                 Thu   \n",
       "7                        5                   22                 Sat   \n",
       "8                        2                   14                 Wed   \n",
       "9                        4                   22                 Fri   \n",
       "\n",
       "  order_purchase_mon  \n",
       "0                Oct  \n",
       "1                Oct  \n",
       "2                Oct  \n",
       "3                Aug  \n",
       "4                Aug  \n",
       "5                Oct  \n",
       "6                Aug  \n",
       "7                Sep  \n",
       "8                Aug  \n",
       "9                Jul  \n",
       "\n",
       "[10 rows x 53 columns]"
      ]
     },
     "execution_count": 13,
     "metadata": {},
     "output_type": "execute_result"
    }
   ],
   "source": [
    "data.head(10)"
   ]
  },
  {
   "cell_type": "code",
   "execution_count": 14,
   "metadata": {},
   "outputs": [
    {
     "name": "stdout",
     "output_type": "stream",
     "text": [
      "<class 'pandas.core.frame.DataFrame'>\n",
      "RangeIndex: 116581 entries, 0 to 116580\n",
      "Data columns (total 53 columns):\n",
      " #   Column                         Non-Null Count   Dtype  \n",
      "---  ------                         --------------   -----  \n",
      " 0   order_id                       116581 non-null  object \n",
      " 1   order_id3                      116581 non-null  object \n",
      " 2   customer_id3                   116581 non-null  object \n",
      " 3   order_status                   116581 non-null  object \n",
      " 4   order_purchase_timestamp       116581 non-null  object \n",
      " 5   order_approved_at              116581 non-null  object \n",
      " 6   order_delivered_carrier_date   116581 non-null  object \n",
      " 7   order_delivered_customer_date  116581 non-null  object \n",
      " 8   order_estimated_delivery_date  116581 non-null  object \n",
      " 9   order_item_id                  116581 non-null  float64\n",
      " 10  product_id3                    116581 non-null  object \n",
      " 11  seller_id3                     116581 non-null  object \n",
      " 12  shipping_limit_date            116581 non-null  object \n",
      " 13  price                          116581 non-null  float64\n",
      " 14  freight_value                  116581 non-null  float64\n",
      " 15  payment_sequential             116581 non-null  int64  \n",
      " 16  payment_type                   116581 non-null  object \n",
      " 17  payment_installments           116581 non-null  int64  \n",
      " 18  payment_value                  116581 non-null  float64\n",
      " 19  review_id                      116581 non-null  object \n",
      " 20  review_id3                     116581 non-null  object \n",
      " 21  review_score                   116581 non-null  float64\n",
      " 22  review_comment_title           13996 non-null   object \n",
      " 23  review_comment_message         49878 non-null   object \n",
      " 24  review_creation_date           116578 non-null  object \n",
      " 25  review_answer_timestamp        116578 non-null  object \n",
      " 26  product_id                     116581 non-null  object \n",
      " 27  product_category_name          116581 non-null  object \n",
      " 28  product_name_lenght            116581 non-null  float64\n",
      " 29  product_description_lenght     116581 non-null  float64\n",
      " 30  product_photos_qty             116581 non-null  float64\n",
      " 31  product_weight_g               116580 non-null  float64\n",
      " 32  product_length_cm              116580 non-null  float64\n",
      " 33  product_height_cm              116580 non-null  float64\n",
      " 34  product_width_cm               116580 non-null  float64\n",
      " 35  customer_id                    116581 non-null  int64  \n",
      " 36  customer_unique_id             116581 non-null  object \n",
      " 37  customer_uniqueid3             116581 non-null  object \n",
      " 38  customer_zip_code_prefix       116581 non-null  int64  \n",
      " 39  customer_city                  116581 non-null  object \n",
      " 40  customer_state                 116581 non-null  object \n",
      " 41  seller_id                      116581 non-null  object \n",
      " 42  seller_zip_code_prefix         116581 non-null  int64  \n",
      " 43  seller_city                    116581 non-null  object \n",
      " 44  seller_state                   116581 non-null  object \n",
      " 45  product_category_name_english  116581 non-null  object \n",
      " 46  review_response_time           116578 non-null  float64\n",
      " 47  order_purchase_year            116581 non-null  int64  \n",
      " 48  order_purchase_month           116581 non-null  int64  \n",
      " 49  order_purchase_dayofweek       116581 non-null  int64  \n",
      " 50  order_purchase_hour            116581 non-null  int64  \n",
      " 51  order_purchase_day             116581 non-null  object \n",
      " 52  order_purchase_mon             116581 non-null  object \n",
      "dtypes: float64(13), int64(9), object(31)\n",
      "memory usage: 47.1+ MB\n"
     ]
    }
   ],
   "source": [
    "data.info()"
   ]
  },
  {
   "cell_type": "code",
   "execution_count": 15,
   "metadata": {},
   "outputs": [],
   "source": [
    "### Trabalhando colunas Data para análise\n",
    "# Converte para tipo Date Time\n",
    "data['order_purchase_timestamp'] = pd.to_datetime(data['order_purchase_timestamp'])"
   ]
  },
  {
   "cell_type": "code",
   "execution_count": 16,
   "metadata": {},
   "outputs": [
    {
     "name": "stdout",
     "output_type": "stream",
     "text": [
      "<class 'pandas.core.series.Series'>\n",
      "RangeIndex: 116581 entries, 0 to 116580\n",
      "Series name: order_purchase_timestamp\n",
      "Non-Null Count   Dtype         \n",
      "--------------   -----         \n",
      "116581 non-null  datetime64[ns]\n",
      "dtypes: datetime64[ns](1)\n",
      "memory usage: 910.9 KB\n"
     ]
    }
   ],
   "source": [
    "data['order_purchase_timestamp'].info()"
   ]
  },
  {
   "cell_type": "code",
   "execution_count": 17,
   "metadata": {},
   "outputs": [],
   "source": [
    "# Extraindo somente a data.\n",
    "data['order_purchase_date'] = data['order_purchase_timestamp'].dt.date"
   ]
  },
  {
   "cell_type": "code",
   "execution_count": 18,
   "metadata": {},
   "outputs": [
    {
     "data": {
      "text/plain": [
       "0         2017-10-02\n",
       "1         2017-10-02\n",
       "2         2017-10-02\n",
       "3         2017-08-15\n",
       "4         2017-08-02\n",
       "             ...    \n",
       "116576    2018-07-11\n",
       "116577    2018-05-16\n",
       "116578    2018-06-13\n",
       "116579    2018-08-07\n",
       "116580    2017-02-19\n",
       "Name: order_purchase_date, Length: 116581, dtype: object"
      ]
     },
     "execution_count": 18,
     "metadata": {},
     "output_type": "execute_result"
    }
   ],
   "source": [
    "data['order_purchase_date']"
   ]
  },
  {
   "cell_type": "code",
   "execution_count": 19,
   "metadata": {},
   "outputs": [],
   "source": [
    "# Criando novas colunas \n",
    "data['InvoiceDate'] = data.order_purchase_date.apply(lambda x: datetime.strftime(x, '%Y-%m-%d'))\n",
    "data['InvoiceDate'] = pd.to_datetime(data['InvoiceDate'])"
   ]
  },
  {
   "cell_type": "code",
   "execution_count": 20,
   "metadata": {},
   "outputs": [
    {
     "data": {
      "text/html": [
       "<div>\n",
       "<style scoped>\n",
       "    .dataframe tbody tr th:only-of-type {\n",
       "        vertical-align: middle;\n",
       "    }\n",
       "\n",
       "    .dataframe tbody tr th {\n",
       "        vertical-align: top;\n",
       "    }\n",
       "\n",
       "    .dataframe thead th {\n",
       "        text-align: right;\n",
       "    }\n",
       "</style>\n",
       "<table border=\"1\" class=\"dataframe\">\n",
       "  <thead>\n",
       "    <tr style=\"text-align: right;\">\n",
       "      <th></th>\n",
       "      <th>order_id</th>\n",
       "      <th>order_id3</th>\n",
       "      <th>customer_id3</th>\n",
       "      <th>order_status</th>\n",
       "      <th>order_purchase_timestamp</th>\n",
       "      <th>order_approved_at</th>\n",
       "      <th>order_delivered_carrier_date</th>\n",
       "      <th>order_delivered_customer_date</th>\n",
       "      <th>order_estimated_delivery_date</th>\n",
       "      <th>order_item_id</th>\n",
       "      <th>...</th>\n",
       "      <th>product_category_name_english</th>\n",
       "      <th>review_response_time</th>\n",
       "      <th>order_purchase_year</th>\n",
       "      <th>order_purchase_month</th>\n",
       "      <th>order_purchase_dayofweek</th>\n",
       "      <th>order_purchase_hour</th>\n",
       "      <th>order_purchase_day</th>\n",
       "      <th>order_purchase_mon</th>\n",
       "      <th>order_purchase_date</th>\n",
       "      <th>InvoiceDate</th>\n",
       "    </tr>\n",
       "  </thead>\n",
       "  <tbody>\n",
       "    <tr>\n",
       "      <th>0</th>\n",
       "      <td>ON34305</td>\n",
       "      <td>e481f51cbdc54678b7cc49136f2d6af7</td>\n",
       "      <td>9ef432eb6251297304e76186b10a928d</td>\n",
       "      <td>delivered</td>\n",
       "      <td>2017-10-02 10:56:33</td>\n",
       "      <td>2017-10-02 11:07:15</td>\n",
       "      <td>2017-10-04 19:55:00</td>\n",
       "      <td>2017-10-10 21:25:13</td>\n",
       "      <td>2017-10-18 00:00:00</td>\n",
       "      <td>1.0</td>\n",
       "      <td>...</td>\n",
       "      <td>housewares</td>\n",
       "      <td>1.0</td>\n",
       "      <td>2017</td>\n",
       "      <td>10</td>\n",
       "      <td>0</td>\n",
       "      <td>10</td>\n",
       "      <td>Mon</td>\n",
       "      <td>Oct</td>\n",
       "      <td>2017-10-02</td>\n",
       "      <td>2017-10-02</td>\n",
       "    </tr>\n",
       "    <tr>\n",
       "      <th>1</th>\n",
       "      <td>ON34305</td>\n",
       "      <td>e481f51cbdc54678b7cc49136f2d6af7</td>\n",
       "      <td>9ef432eb6251297304e76186b10a928d</td>\n",
       "      <td>delivered</td>\n",
       "      <td>2017-10-02 10:56:33</td>\n",
       "      <td>2017-10-02 11:07:15</td>\n",
       "      <td>2017-10-04 19:55:00</td>\n",
       "      <td>2017-10-10 21:25:13</td>\n",
       "      <td>2017-10-18 00:00:00</td>\n",
       "      <td>1.0</td>\n",
       "      <td>...</td>\n",
       "      <td>housewares</td>\n",
       "      <td>1.0</td>\n",
       "      <td>2017</td>\n",
       "      <td>10</td>\n",
       "      <td>0</td>\n",
       "      <td>10</td>\n",
       "      <td>Mon</td>\n",
       "      <td>Oct</td>\n",
       "      <td>2017-10-02</td>\n",
       "      <td>2017-10-02</td>\n",
       "    </tr>\n",
       "    <tr>\n",
       "      <th>2</th>\n",
       "      <td>ON34305</td>\n",
       "      <td>e481f51cbdc54678b7cc49136f2d6af7</td>\n",
       "      <td>9ef432eb6251297304e76186b10a928d</td>\n",
       "      <td>delivered</td>\n",
       "      <td>2017-10-02 10:56:33</td>\n",
       "      <td>2017-10-02 11:07:15</td>\n",
       "      <td>2017-10-04 19:55:00</td>\n",
       "      <td>2017-10-10 21:25:13</td>\n",
       "      <td>2017-10-18 00:00:00</td>\n",
       "      <td>1.0</td>\n",
       "      <td>...</td>\n",
       "      <td>housewares</td>\n",
       "      <td>1.0</td>\n",
       "      <td>2017</td>\n",
       "      <td>10</td>\n",
       "      <td>0</td>\n",
       "      <td>10</td>\n",
       "      <td>Mon</td>\n",
       "      <td>Oct</td>\n",
       "      <td>2017-10-02</td>\n",
       "      <td>2017-10-02</td>\n",
       "    </tr>\n",
       "    <tr>\n",
       "      <th>3</th>\n",
       "      <td>ON40291</td>\n",
       "      <td>128e10d95713541c87cd1a2e48201934</td>\n",
       "      <td>a20e8105f23924cd00833fd87daa0831</td>\n",
       "      <td>delivered</td>\n",
       "      <td>2017-08-15 18:29:31</td>\n",
       "      <td>2017-08-15 20:05:16</td>\n",
       "      <td>2017-08-17 15:28:33</td>\n",
       "      <td>2017-08-18 14:44:43</td>\n",
       "      <td>2017-08-28 00:00:00</td>\n",
       "      <td>1.0</td>\n",
       "      <td>...</td>\n",
       "      <td>housewares</td>\n",
       "      <td>1.0</td>\n",
       "      <td>2017</td>\n",
       "      <td>8</td>\n",
       "      <td>1</td>\n",
       "      <td>18</td>\n",
       "      <td>Tue</td>\n",
       "      <td>Aug</td>\n",
       "      <td>2017-08-15</td>\n",
       "      <td>2017-08-15</td>\n",
       "    </tr>\n",
       "    <tr>\n",
       "      <th>4</th>\n",
       "      <td>ON74313</td>\n",
       "      <td>0e7e841ddf8f8f2de2bad69267ecfbcf</td>\n",
       "      <td>26c7ac168e1433912a51b924fbd34d34</td>\n",
       "      <td>delivered</td>\n",
       "      <td>2017-08-02 18:24:47</td>\n",
       "      <td>2017-08-02 18:43:15</td>\n",
       "      <td>2017-08-04 17:35:43</td>\n",
       "      <td>2017-08-07 18:30:01</td>\n",
       "      <td>2017-08-15 00:00:00</td>\n",
       "      <td>1.0</td>\n",
       "      <td>...</td>\n",
       "      <td>housewares</td>\n",
       "      <td>0.0</td>\n",
       "      <td>2017</td>\n",
       "      <td>8</td>\n",
       "      <td>2</td>\n",
       "      <td>18</td>\n",
       "      <td>Wed</td>\n",
       "      <td>Aug</td>\n",
       "      <td>2017-08-02</td>\n",
       "      <td>2017-08-02</td>\n",
       "    </tr>\n",
       "  </tbody>\n",
       "</table>\n",
       "<p>5 rows × 55 columns</p>\n",
       "</div>"
      ],
      "text/plain": [
       "  order_id                         order_id3  \\\n",
       "0  ON34305  e481f51cbdc54678b7cc49136f2d6af7   \n",
       "1  ON34305  e481f51cbdc54678b7cc49136f2d6af7   \n",
       "2  ON34305  e481f51cbdc54678b7cc49136f2d6af7   \n",
       "3  ON40291  128e10d95713541c87cd1a2e48201934   \n",
       "4  ON74313  0e7e841ddf8f8f2de2bad69267ecfbcf   \n",
       "\n",
       "                       customer_id3 order_status order_purchase_timestamp  \\\n",
       "0  9ef432eb6251297304e76186b10a928d    delivered      2017-10-02 10:56:33   \n",
       "1  9ef432eb6251297304e76186b10a928d    delivered      2017-10-02 10:56:33   \n",
       "2  9ef432eb6251297304e76186b10a928d    delivered      2017-10-02 10:56:33   \n",
       "3  a20e8105f23924cd00833fd87daa0831    delivered      2017-08-15 18:29:31   \n",
       "4  26c7ac168e1433912a51b924fbd34d34    delivered      2017-08-02 18:24:47   \n",
       "\n",
       "     order_approved_at order_delivered_carrier_date  \\\n",
       "0  2017-10-02 11:07:15          2017-10-04 19:55:00   \n",
       "1  2017-10-02 11:07:15          2017-10-04 19:55:00   \n",
       "2  2017-10-02 11:07:15          2017-10-04 19:55:00   \n",
       "3  2017-08-15 20:05:16          2017-08-17 15:28:33   \n",
       "4  2017-08-02 18:43:15          2017-08-04 17:35:43   \n",
       "\n",
       "  order_delivered_customer_date order_estimated_delivery_date  order_item_id  \\\n",
       "0           2017-10-10 21:25:13           2017-10-18 00:00:00            1.0   \n",
       "1           2017-10-10 21:25:13           2017-10-18 00:00:00            1.0   \n",
       "2           2017-10-10 21:25:13           2017-10-18 00:00:00            1.0   \n",
       "3           2017-08-18 14:44:43           2017-08-28 00:00:00            1.0   \n",
       "4           2017-08-07 18:30:01           2017-08-15 00:00:00            1.0   \n",
       "\n",
       "   ... product_category_name_english review_response_time order_purchase_year  \\\n",
       "0  ...                    housewares                  1.0                2017   \n",
       "1  ...                    housewares                  1.0                2017   \n",
       "2  ...                    housewares                  1.0                2017   \n",
       "3  ...                    housewares                  1.0                2017   \n",
       "4  ...                    housewares                  0.0                2017   \n",
       "\n",
       "   order_purchase_month  order_purchase_dayofweek  order_purchase_hour  \\\n",
       "0                    10                         0                   10   \n",
       "1                    10                         0                   10   \n",
       "2                    10                         0                   10   \n",
       "3                     8                         1                   18   \n",
       "4                     8                         2                   18   \n",
       "\n",
       "  order_purchase_day  order_purchase_mon  order_purchase_date InvoiceDate  \n",
       "0                Mon                 Oct           2017-10-02  2017-10-02  \n",
       "1                Mon                 Oct           2017-10-02  2017-10-02  \n",
       "2                Mon                 Oct           2017-10-02  2017-10-02  \n",
       "3                Tue                 Aug           2017-08-15  2017-08-15  \n",
       "4                Wed                 Aug           2017-08-02  2017-08-02  \n",
       "\n",
       "[5 rows x 55 columns]"
      ]
     },
     "execution_count": 20,
     "metadata": {},
     "output_type": "execute_result"
    }
   ],
   "source": [
    "data.head()"
   ]
  },
  {
   "cell_type": "code",
   "execution_count": 21,
   "metadata": {},
   "outputs": [
    {
     "data": {
      "text/html": [
       "<div>\n",
       "<style scoped>\n",
       "    .dataframe tbody tr th:only-of-type {\n",
       "        vertical-align: middle;\n",
       "    }\n",
       "\n",
       "    .dataframe tbody tr th {\n",
       "        vertical-align: top;\n",
       "    }\n",
       "\n",
       "    .dataframe thead th {\n",
       "        text-align: right;\n",
       "    }\n",
       "</style>\n",
       "<table border=\"1\" class=\"dataframe\">\n",
       "  <thead>\n",
       "    <tr style=\"text-align: right;\">\n",
       "      <th></th>\n",
       "      <th>order_id</th>\n",
       "      <th>order_id3</th>\n",
       "      <th>customer_id3</th>\n",
       "      <th>order_status</th>\n",
       "      <th>order_purchase_timestamp</th>\n",
       "      <th>order_approved_at</th>\n",
       "      <th>order_delivered_carrier_date</th>\n",
       "      <th>order_delivered_customer_date</th>\n",
       "      <th>order_estimated_delivery_date</th>\n",
       "      <th>order_item_id</th>\n",
       "      <th>...</th>\n",
       "      <th>product_category_name_english</th>\n",
       "      <th>review_response_time</th>\n",
       "      <th>order_purchase_year</th>\n",
       "      <th>order_purchase_month</th>\n",
       "      <th>order_purchase_dayofweek</th>\n",
       "      <th>order_purchase_hour</th>\n",
       "      <th>order_purchase_day</th>\n",
       "      <th>order_purchase_mon</th>\n",
       "      <th>order_purchase_date</th>\n",
       "      <th>InvoiceDate</th>\n",
       "    </tr>\n",
       "  </thead>\n",
       "  <tbody>\n",
       "    <tr>\n",
       "      <th>116576</th>\n",
       "      <td>ON07986</td>\n",
       "      <td>442a41b00a8a8bda35511fdf1eb65cc5</td>\n",
       "      <td>e42e2e8642f9c09100b6667e321c2811</td>\n",
       "      <td>invoiced</td>\n",
       "      <td>2018-07-11 22:27:32</td>\n",
       "      <td>2018-07-11 22:45:43</td>\n",
       "      <td>2018-07-13 19:02:36</td>\n",
       "      <td>2018-07-20 20:33:29</td>\n",
       "      <td>2018-07-20 00:00:00</td>\n",
       "      <td>1.0</td>\n",
       "      <td>...</td>\n",
       "      <td>books imported</td>\n",
       "      <td>2.0</td>\n",
       "      <td>2018</td>\n",
       "      <td>7</td>\n",
       "      <td>2</td>\n",
       "      <td>22</td>\n",
       "      <td>Wed</td>\n",
       "      <td>Jul</td>\n",
       "      <td>2018-07-11</td>\n",
       "      <td>2018-07-11</td>\n",
       "    </tr>\n",
       "    <tr>\n",
       "      <th>116577</th>\n",
       "      <td>ON72724</td>\n",
       "      <td>1dbff949801376b8795a093d31cfe205</td>\n",
       "      <td>0cbd2df3d6e9d8b1eaf5cfefc44886bc</td>\n",
       "      <td>delivered</td>\n",
       "      <td>2018-05-16 14:50:54</td>\n",
       "      <td>2018-05-16 15:18:42</td>\n",
       "      <td>2018-05-18 12:10:00</td>\n",
       "      <td>2018-05-21 17:14:08</td>\n",
       "      <td>2018-05-28 00:00:00</td>\n",
       "      <td>1.0</td>\n",
       "      <td>...</td>\n",
       "      <td>books imported</td>\n",
       "      <td>0.0</td>\n",
       "      <td>2018</td>\n",
       "      <td>5</td>\n",
       "      <td>2</td>\n",
       "      <td>14</td>\n",
       "      <td>Wed</td>\n",
       "      <td>May</td>\n",
       "      <td>2018-05-16</td>\n",
       "      <td>2018-05-16</td>\n",
       "    </tr>\n",
       "    <tr>\n",
       "      <th>116578</th>\n",
       "      <td>ON15901</td>\n",
       "      <td>6775b950cdc4da0ce39b261032f92c84</td>\n",
       "      <td>c4d135422be0d4333f506acde8af9419</td>\n",
       "      <td>delivered</td>\n",
       "      <td>2018-06-13 12:19:26</td>\n",
       "      <td>2018-06-13 17:39:14</td>\n",
       "      <td>2018-06-15 13:09:00</td>\n",
       "      <td>2018-06-16 17:48:30</td>\n",
       "      <td>2018-06-28 00:00:00</td>\n",
       "      <td>1.0</td>\n",
       "      <td>...</td>\n",
       "      <td>books imported</td>\n",
       "      <td>0.0</td>\n",
       "      <td>2018</td>\n",
       "      <td>6</td>\n",
       "      <td>2</td>\n",
       "      <td>12</td>\n",
       "      <td>Wed</td>\n",
       "      <td>Jun</td>\n",
       "      <td>2018-06-13</td>\n",
       "      <td>2018-06-13</td>\n",
       "    </tr>\n",
       "    <tr>\n",
       "      <th>116579</th>\n",
       "      <td>ON44476</td>\n",
       "      <td>73d60420cd1a179b2d8887d538efe4c2</td>\n",
       "      <td>65d9213dfa004c17dc126503e106e4a3</td>\n",
       "      <td>delivered</td>\n",
       "      <td>2018-08-07 10:52:58</td>\n",
       "      <td>2018-08-07 11:05:18</td>\n",
       "      <td>2018-08-08 08:31:00</td>\n",
       "      <td>2018-08-22 17:02:23</td>\n",
       "      <td>2018-09-04 00:00:00</td>\n",
       "      <td>1.0</td>\n",
       "      <td>...</td>\n",
       "      <td>books imported</td>\n",
       "      <td>2.0</td>\n",
       "      <td>2018</td>\n",
       "      <td>8</td>\n",
       "      <td>1</td>\n",
       "      <td>10</td>\n",
       "      <td>Tue</td>\n",
       "      <td>Aug</td>\n",
       "      <td>2018-08-07</td>\n",
       "      <td>2018-08-07</td>\n",
       "    </tr>\n",
       "    <tr>\n",
       "      <th>116580</th>\n",
       "      <td>ON08855</td>\n",
       "      <td>f5cf5716413185387030a378bdd46ebe</td>\n",
       "      <td>ff95df9a387c8d032a2ca6887cf77236</td>\n",
       "      <td>processing</td>\n",
       "      <td>2017-02-19 22:31:47</td>\n",
       "      <td>2017-02-19 22:45:13</td>\n",
       "      <td>2017-02-21 19:02:06</td>\n",
       "      <td>2017-02-28 20:32:59</td>\n",
       "      <td>2017-03-21 00:00:00</td>\n",
       "      <td>1.0</td>\n",
       "      <td>...</td>\n",
       "      <td>books imported</td>\n",
       "      <td>0.0</td>\n",
       "      <td>2017</td>\n",
       "      <td>2</td>\n",
       "      <td>6</td>\n",
       "      <td>22</td>\n",
       "      <td>Sun</td>\n",
       "      <td>Feb</td>\n",
       "      <td>2017-02-19</td>\n",
       "      <td>2017-02-19</td>\n",
       "    </tr>\n",
       "  </tbody>\n",
       "</table>\n",
       "<p>5 rows × 55 columns</p>\n",
       "</div>"
      ],
      "text/plain": [
       "       order_id                         order_id3  \\\n",
       "116576  ON07986  442a41b00a8a8bda35511fdf1eb65cc5   \n",
       "116577  ON72724  1dbff949801376b8795a093d31cfe205   \n",
       "116578  ON15901  6775b950cdc4da0ce39b261032f92c84   \n",
       "116579  ON44476  73d60420cd1a179b2d8887d538efe4c2   \n",
       "116580  ON08855  f5cf5716413185387030a378bdd46ebe   \n",
       "\n",
       "                            customer_id3 order_status  \\\n",
       "116576  e42e2e8642f9c09100b6667e321c2811     invoiced   \n",
       "116577  0cbd2df3d6e9d8b1eaf5cfefc44886bc    delivered   \n",
       "116578  c4d135422be0d4333f506acde8af9419    delivered   \n",
       "116579  65d9213dfa004c17dc126503e106e4a3    delivered   \n",
       "116580  ff95df9a387c8d032a2ca6887cf77236   processing   \n",
       "\n",
       "       order_purchase_timestamp    order_approved_at  \\\n",
       "116576      2018-07-11 22:27:32  2018-07-11 22:45:43   \n",
       "116577      2018-05-16 14:50:54  2018-05-16 15:18:42   \n",
       "116578      2018-06-13 12:19:26  2018-06-13 17:39:14   \n",
       "116579      2018-08-07 10:52:58  2018-08-07 11:05:18   \n",
       "116580      2017-02-19 22:31:47  2017-02-19 22:45:13   \n",
       "\n",
       "       order_delivered_carrier_date order_delivered_customer_date  \\\n",
       "116576          2018-07-13 19:02:36           2018-07-20 20:33:29   \n",
       "116577          2018-05-18 12:10:00           2018-05-21 17:14:08   \n",
       "116578          2018-06-15 13:09:00           2018-06-16 17:48:30   \n",
       "116579          2018-08-08 08:31:00           2018-08-22 17:02:23   \n",
       "116580          2017-02-21 19:02:06           2017-02-28 20:32:59   \n",
       "\n",
       "       order_estimated_delivery_date  order_item_id  ...  \\\n",
       "116576           2018-07-20 00:00:00            1.0  ...   \n",
       "116577           2018-05-28 00:00:00            1.0  ...   \n",
       "116578           2018-06-28 00:00:00            1.0  ...   \n",
       "116579           2018-09-04 00:00:00            1.0  ...   \n",
       "116580           2017-03-21 00:00:00            1.0  ...   \n",
       "\n",
       "       product_category_name_english review_response_time order_purchase_year  \\\n",
       "116576                books imported                  2.0                2018   \n",
       "116577                books imported                  0.0                2018   \n",
       "116578                books imported                  0.0                2018   \n",
       "116579                books imported                  2.0                2018   \n",
       "116580                books imported                  0.0                2017   \n",
       "\n",
       "        order_purchase_month  order_purchase_dayofweek  order_purchase_hour  \\\n",
       "116576                     7                         2                   22   \n",
       "116577                     5                         2                   14   \n",
       "116578                     6                         2                   12   \n",
       "116579                     8                         1                   10   \n",
       "116580                     2                         6                   22   \n",
       "\n",
       "       order_purchase_day  order_purchase_mon  order_purchase_date InvoiceDate  \n",
       "116576                Wed                 Jul           2018-07-11  2018-07-11  \n",
       "116577                Wed                 May           2018-05-16  2018-05-16  \n",
       "116578                Wed                 Jun           2018-06-13  2018-06-13  \n",
       "116579                Tue                 Aug           2018-08-07  2018-08-07  \n",
       "116580                Sun                 Feb           2017-02-19  2017-02-19  \n",
       "\n",
       "[5 rows x 55 columns]"
      ]
     },
     "execution_count": 21,
     "metadata": {},
     "output_type": "execute_result"
    }
   ],
   "source": [
    "data.tail()"
   ]
  },
  {
   "cell_type": "code",
   "execution_count": 22,
   "metadata": {},
   "outputs": [
    {
     "name": "stdout",
     "output_type": "stream",
     "text": [
      "116,581 Linhas; 55 Colunas\n",
      "0 Transações não tem customer id\n",
      "Datas das Transações de 2016-09-04 00:00:00 a 2018-09-03 00:00:00\n"
     ]
    }
   ],
   "source": [
    "#\n",
    "print('{:,} Linhas; {:,} Colunas'.format(data.shape[0], data.shape[1]))\n",
    "print('{:,} Transações não tem customer id'.format(data[data.customer_unique_id.isnull()].shape[0]))\n",
    "print('Datas das Transações de {} a {}'.format(data['InvoiceDate'].min(), data['InvoiceDate'].max()))"
   ]
  },
  {
   "cell_type": "markdown",
   "metadata": {},
   "source": [
    "##### Definindo a data mais recente adicionando mais um dia, para criar um ponto de referência para calcular a recência."
   ]
  },
  {
   "cell_type": "code",
   "execution_count": 23,
   "metadata": {},
   "outputs": [
    {
     "data": {
      "text/plain": [
       "Timestamp('2018-09-04 00:00:00')"
      ]
     },
     "execution_count": 23,
     "metadata": {},
     "output_type": "execute_result"
    }
   ],
   "source": [
    "## Definindo data mais recente\n",
    "most_recent_date = data['InvoiceDate'].max() + timedelta(days= 1)\n",
    "most_recent_date"
   ]
  },
  {
   "cell_type": "code",
   "execution_count": 24,
   "metadata": {},
   "outputs": [],
   "source": [
    "# Agrupando por Customer ID\n",
    "data_agg = data.groupby(['customer_unique_id']).agg({'InvoiceDate': lambda x: (most_recent_date - x.max()).days, 'order_id': 'count', 'payment_value':'sum'})"
   ]
  },
  {
   "cell_type": "code",
   "execution_count": 29,
   "metadata": {},
   "outputs": [],
   "source": [
    "data_agg.rename(columns= {'InvoiceDate': 'Recency', 'order_id': 'Frequency', 'payment_value': 'Monetary'}, inplace=True)"
   ]
  },
  {
   "cell_type": "code",
   "execution_count": 30,
   "metadata": {},
   "outputs": [
    {
     "data": {
      "text/html": [
       "<div>\n",
       "<style scoped>\n",
       "    .dataframe tbody tr th:only-of-type {\n",
       "        vertical-align: middle;\n",
       "    }\n",
       "\n",
       "    .dataframe tbody tr th {\n",
       "        vertical-align: top;\n",
       "    }\n",
       "\n",
       "    .dataframe thead th {\n",
       "        text-align: right;\n",
       "    }\n",
       "</style>\n",
       "<table border=\"1\" class=\"dataframe\">\n",
       "  <thead>\n",
       "    <tr style=\"text-align: right;\">\n",
       "      <th></th>\n",
       "      <th>Recency</th>\n",
       "      <th>Frequency</th>\n",
       "      <th>Monetary</th>\n",
       "    </tr>\n",
       "    <tr>\n",
       "      <th>customer_unique_id</th>\n",
       "      <th></th>\n",
       "      <th></th>\n",
       "      <th></th>\n",
       "    </tr>\n",
       "  </thead>\n",
       "  <tbody>\n",
       "    <tr>\n",
       "      <th>C00001</th>\n",
       "      <td>73</td>\n",
       "      <td>1</td>\n",
       "      <td>121.82</td>\n",
       "    </tr>\n",
       "    <tr>\n",
       "      <th>C00002</th>\n",
       "      <td>66</td>\n",
       "      <td>1</td>\n",
       "      <td>155.76</td>\n",
       "    </tr>\n",
       "    <tr>\n",
       "      <th>C00003</th>\n",
       "      <td>337</td>\n",
       "      <td>1</td>\n",
       "      <td>181.55</td>\n",
       "    </tr>\n",
       "    <tr>\n",
       "      <th>C00004</th>\n",
       "      <td>193</td>\n",
       "      <td>1</td>\n",
       "      <td>90.78</td>\n",
       "    </tr>\n",
       "    <tr>\n",
       "      <th>C00005</th>\n",
       "      <td>283</td>\n",
       "      <td>1</td>\n",
       "      <td>266.89</td>\n",
       "    </tr>\n",
       "  </tbody>\n",
       "</table>\n",
       "</div>"
      ],
      "text/plain": [
       "                    Recency  Frequency  Monetary\n",
       "customer_unique_id                              \n",
       "C00001                   73          1    121.82\n",
       "C00002                   66          1    155.76\n",
       "C00003                  337          1    181.55\n",
       "C00004                  193          1     90.78\n",
       "C00005                  283          1    266.89"
      ]
     },
     "execution_count": 30,
     "metadata": {},
     "output_type": "execute_result"
    }
   ],
   "source": [
    "data_agg.head()"
   ]
  },
  {
   "cell_type": "code",
   "execution_count": 31,
   "metadata": {},
   "outputs": [
    {
     "data": {
      "text/html": [
       "<div>\n",
       "<style scoped>\n",
       "    .dataframe tbody tr th:only-of-type {\n",
       "        vertical-align: middle;\n",
       "    }\n",
       "\n",
       "    .dataframe tbody tr th {\n",
       "        vertical-align: top;\n",
       "    }\n",
       "\n",
       "    .dataframe thead th {\n",
       "        text-align: right;\n",
       "    }\n",
       "</style>\n",
       "<table border=\"1\" class=\"dataframe\">\n",
       "  <thead>\n",
       "    <tr style=\"text-align: right;\">\n",
       "      <th></th>\n",
       "      <th>Recency</th>\n",
       "      <th>Frequency</th>\n",
       "      <th>Monetary</th>\n",
       "    </tr>\n",
       "    <tr>\n",
       "      <th>customer_unique_id</th>\n",
       "      <th></th>\n",
       "      <th></th>\n",
       "      <th></th>\n",
       "    </tr>\n",
       "  </thead>\n",
       "  <tbody>\n",
       "    <tr>\n",
       "      <th>C45355</th>\n",
       "      <td>111</td>\n",
       "      <td>1</td>\n",
       "      <td>181.69</td>\n",
       "    </tr>\n",
       "    <tr>\n",
       "      <th>C20185</th>\n",
       "      <td>383</td>\n",
       "      <td>1</td>\n",
       "      <td>24.10</td>\n",
       "    </tr>\n",
       "    <tr>\n",
       "      <th>C79761</th>\n",
       "      <td>75</td>\n",
       "      <td>1</td>\n",
       "      <td>144.89</td>\n",
       "    </tr>\n",
       "    <tr>\n",
       "      <th>C96805</th>\n",
       "      <td>164</td>\n",
       "      <td>1</td>\n",
       "      <td>154.85</td>\n",
       "    </tr>\n",
       "    <tr>\n",
       "      <th>C50431</th>\n",
       "      <td>196</td>\n",
       "      <td>2</td>\n",
       "      <td>113.43</td>\n",
       "    </tr>\n",
       "    <tr>\n",
       "      <th>C40182</th>\n",
       "      <td>15</td>\n",
       "      <td>1</td>\n",
       "      <td>39.99</td>\n",
       "    </tr>\n",
       "    <tr>\n",
       "      <th>C38424</th>\n",
       "      <td>45</td>\n",
       "      <td>1</td>\n",
       "      <td>220.86</td>\n",
       "    </tr>\n",
       "    <tr>\n",
       "      <th>C15132</th>\n",
       "      <td>233</td>\n",
       "      <td>1</td>\n",
       "      <td>102.03</td>\n",
       "    </tr>\n",
       "    <tr>\n",
       "      <th>C55639</th>\n",
       "      <td>100</td>\n",
       "      <td>1</td>\n",
       "      <td>159.60</td>\n",
       "    </tr>\n",
       "    <tr>\n",
       "      <th>C06302</th>\n",
       "      <td>194</td>\n",
       "      <td>1</td>\n",
       "      <td>126.43</td>\n",
       "    </tr>\n",
       "  </tbody>\n",
       "</table>\n",
       "</div>"
      ],
      "text/plain": [
       "                    Recency  Frequency  Monetary\n",
       "customer_unique_id                              \n",
       "C45355                  111          1    181.69\n",
       "C20185                  383          1     24.10\n",
       "C79761                   75          1    144.89\n",
       "C96805                  164          1    154.85\n",
       "C50431                  196          2    113.43\n",
       "C40182                   15          1     39.99\n",
       "C38424                   45          1    220.86\n",
       "C15132                  233          1    102.03\n",
       "C55639                  100          1    159.60\n",
       "C06302                  194          1    126.43"
      ]
     },
     "execution_count": 31,
     "metadata": {},
     "output_type": "execute_result"
    }
   ],
   "source": [
    "data_agg.sample(10)"
   ]
  },
  {
   "cell_type": "code",
   "execution_count": 32,
   "metadata": {},
   "outputs": [
    {
     "data": {
      "text/plain": [
       "Recency      False\n",
       "Frequency    False\n",
       "Monetary     False\n",
       "dtype: bool"
      ]
     },
     "execution_count": 32,
     "metadata": {},
     "output_type": "execute_result"
    }
   ],
   "source": [
    "# Verificando valores ausentes\n",
    "data_agg.isna().any()"
   ]
  },
  {
   "cell_type": "code",
   "execution_count": 33,
   "metadata": {},
   "outputs": [
    {
     "data": {
      "text/plain": [
       "count    94087.000000\n",
       "mean       243.803575\n",
       "std        153.156983\n",
       "min          1.000000\n",
       "25%        120.000000\n",
       "50%        224.000000\n",
       "75%        353.000000\n",
       "max        730.000000\n",
       "Name: Recency, dtype: float64"
      ]
     },
     "execution_count": 33,
     "metadata": {},
     "output_type": "execute_result"
    }
   ],
   "source": [
    "# Resumo estatístico\n",
    "data_agg['Recency'].describe()"
   ]
  },
  {
   "cell_type": "code",
   "execution_count": 34,
   "metadata": {},
   "outputs": [
    {
     "data": {
      "text/plain": [
       "count    94087.000000\n",
       "mean         1.239077\n",
       "std          0.850594\n",
       "min          1.000000\n",
       "25%          1.000000\n",
       "50%          1.000000\n",
       "75%          1.000000\n",
       "max         75.000000\n",
       "Name: Frequency, dtype: float64"
      ]
     },
     "execution_count": 34,
     "metadata": {},
     "output_type": "execute_result"
    }
   ],
   "source": [
    "data_agg['Frequency'].describe()"
   ]
  },
  {
   "cell_type": "code",
   "execution_count": 36,
   "metadata": {},
   "outputs": [
    {
     "data": {
      "text/plain": [
       "Frequency\n",
       "1     79915\n",
       "2     10323\n",
       "3      2003\n",
       "4       956\n",
       "5       337\n",
       "6       300\n",
       "7        73\n",
       "8        45\n",
       "10       25\n",
       "9        25\n",
       "12       25\n",
       "11       18\n",
       "14        8\n",
       "15        7\n",
       "24        7\n",
       "20        4\n",
       "13        4\n",
       "21        3\n",
       "22        1\n",
       "38        1\n",
       "26        1\n",
       "75        1\n",
       "18        1\n",
       "19        1\n",
       "29        1\n",
       "16        1\n",
       "35        1\n",
       "Name: count, dtype: int64"
      ]
     },
     "execution_count": 36,
     "metadata": {},
     "output_type": "execute_result"
    }
   ],
   "source": [
    "data_agg['Frequency'].value_counts()"
   ]
  },
  {
   "cell_type": "code",
   "execution_count": 35,
   "metadata": {},
   "outputs": [
    {
     "data": {
      "text/plain": [
       "count     94087.000000\n",
       "mean        214.249054\n",
       "std         647.368039\n",
       "min           9.590000\n",
       "25%          64.000000\n",
       "50%         113.150000\n",
       "75%         203.770000\n",
       "max      109312.640000\n",
       "Name: Monetary, dtype: float64"
      ]
     },
     "execution_count": 35,
     "metadata": {},
     "output_type": "execute_result"
    }
   ],
   "source": [
    "data_agg['Monetary'].describe()"
   ]
  },
  {
   "cell_type": "code",
   "execution_count": 37,
   "metadata": {},
   "outputs": [],
   "source": [
    "##  Aplicando método .qcut() para atribuir o percentil relativo aos recursos RFM.\n",
    "\n",
    "# Criando labels para Recency\n",
    "r_labels = range(4, 0, -1)"
   ]
  },
  {
   "cell_type": "code",
   "execution_count": 38,
   "metadata": {},
   "outputs": [],
   "source": [
    "# Atribuindo os rótulos a 4 grupos de percentis\n",
    "r_groups = pd.qcut(data_agg['Recency'], q= 4, labels= r_labels)"
   ]
  },
  {
   "cell_type": "code",
   "execution_count": 39,
   "metadata": {},
   "outputs": [
    {
     "data": {
      "text/plain": [
       "Recency\n",
       "4    23766\n",
       "2    23563\n",
       "1    23440\n",
       "3    23318\n",
       "Name: count, dtype: int64"
      ]
     },
     "execution_count": 39,
     "metadata": {},
     "output_type": "execute_result"
    }
   ],
   "source": [
    "r_groups.value_counts()"
   ]
  },
  {
   "cell_type": "code",
   "execution_count": 40,
   "metadata": {},
   "outputs": [],
   "source": [
    "# Criando coluna R no dataframe\n",
    "\n",
    "data_agg = data_agg .assign(R = r_groups.values)"
   ]
  },
  {
   "cell_type": "code",
   "execution_count": 61,
   "metadata": {},
   "outputs": [
    {
     "data": {
      "text/html": [
       "<div>\n",
       "<style scoped>\n",
       "    .dataframe tbody tr th:only-of-type {\n",
       "        vertical-align: middle;\n",
       "    }\n",
       "\n",
       "    .dataframe tbody tr th {\n",
       "        vertical-align: top;\n",
       "    }\n",
       "\n",
       "    .dataframe thead th {\n",
       "        text-align: right;\n",
       "    }\n",
       "</style>\n",
       "<table border=\"1\" class=\"dataframe\">\n",
       "  <thead>\n",
       "    <tr style=\"text-align: right;\">\n",
       "      <th></th>\n",
       "      <th>Recency</th>\n",
       "      <th>Frequency</th>\n",
       "      <th>Monetary</th>\n",
       "      <th>R</th>\n",
       "    </tr>\n",
       "    <tr>\n",
       "      <th>customer_unique_id</th>\n",
       "      <th></th>\n",
       "      <th></th>\n",
       "      <th></th>\n",
       "      <th></th>\n",
       "    </tr>\n",
       "  </thead>\n",
       "  <tbody>\n",
       "    <tr>\n",
       "      <th>C78769</th>\n",
       "      <td>259</td>\n",
       "      <td>1</td>\n",
       "      <td>659.84</td>\n",
       "      <td>2</td>\n",
       "    </tr>\n",
       "    <tr>\n",
       "      <th>C93551</th>\n",
       "      <td>348</td>\n",
       "      <td>2</td>\n",
       "      <td>262.84</td>\n",
       "      <td>2</td>\n",
       "    </tr>\n",
       "    <tr>\n",
       "      <th>C04069</th>\n",
       "      <td>190</td>\n",
       "      <td>2</td>\n",
       "      <td>212.58</td>\n",
       "      <td>3</td>\n",
       "    </tr>\n",
       "    <tr>\n",
       "      <th>C42839</th>\n",
       "      <td>376</td>\n",
       "      <td>1</td>\n",
       "      <td>161.23</td>\n",
       "      <td>1</td>\n",
       "    </tr>\n",
       "    <tr>\n",
       "      <th>C31227</th>\n",
       "      <td>581</td>\n",
       "      <td>1</td>\n",
       "      <td>149.90</td>\n",
       "      <td>1</td>\n",
       "    </tr>\n",
       "    <tr>\n",
       "      <th>C67018</th>\n",
       "      <td>262</td>\n",
       "      <td>1</td>\n",
       "      <td>51.59</td>\n",
       "      <td>2</td>\n",
       "    </tr>\n",
       "    <tr>\n",
       "      <th>C54658</th>\n",
       "      <td>97</td>\n",
       "      <td>1</td>\n",
       "      <td>205.99</td>\n",
       "      <td>4</td>\n",
       "    </tr>\n",
       "    <tr>\n",
       "      <th>C17500</th>\n",
       "      <td>454</td>\n",
       "      <td>1</td>\n",
       "      <td>95.21</td>\n",
       "      <td>1</td>\n",
       "    </tr>\n",
       "    <tr>\n",
       "      <th>C30751</th>\n",
       "      <td>327</td>\n",
       "      <td>2</td>\n",
       "      <td>715.24</td>\n",
       "      <td>2</td>\n",
       "    </tr>\n",
       "    <tr>\n",
       "      <th>C80248</th>\n",
       "      <td>156</td>\n",
       "      <td>1</td>\n",
       "      <td>366.18</td>\n",
       "      <td>3</td>\n",
       "    </tr>\n",
       "  </tbody>\n",
       "</table>\n",
       "</div>"
      ],
      "text/plain": [
       "                    Recency  Frequency  Monetary  R\n",
       "customer_unique_id                                 \n",
       "C78769                  259          1    659.84  2\n",
       "C93551                  348          2    262.84  2\n",
       "C04069                  190          2    212.58  3\n",
       "C42839                  376          1    161.23  1\n",
       "C31227                  581          1    149.90  1\n",
       "C67018                  262          1     51.59  2\n",
       "C54658                   97          1    205.99  4\n",
       "C17500                  454          1     95.21  1\n",
       "C30751                  327          2    715.24  2\n",
       "C80248                  156          1    366.18  3"
      ]
     },
     "execution_count": 61,
     "metadata": {},
     "output_type": "execute_result"
    }
   ],
   "source": [
    "## Amostra\n",
    "data_agg.sample(10)"
   ]
  },
  {
   "cell_type": "code",
   "execution_count": 62,
   "metadata": {},
   "outputs": [
    {
     "data": {
      "text/plain": [
       "count    94087.000000\n",
       "mean         1.239077\n",
       "std          0.850594\n",
       "min          1.000000\n",
       "25%          1.000000\n",
       "50%          1.000000\n",
       "75%          1.000000\n",
       "max         75.000000\n",
       "Name: Frequency, dtype: float64"
      ]
     },
     "execution_count": 62,
     "metadata": {},
     "output_type": "execute_result"
    }
   ],
   "source": [
    "## Para frequencia 2 grupos, os que compraram apenas uma vez, e os que compraram mais de uma vez\n",
    "\n",
    "data_agg['Frequency'].describe()"
   ]
  },
  {
   "cell_type": "code",
   "execution_count": 63,
   "metadata": {},
   "outputs": [],
   "source": [
    "## Criando labels para Frequency\n",
    "f_labels = range(1, 3)"
   ]
  },
  {
   "cell_type": "code",
   "execution_count": 64,
   "metadata": {},
   "outputs": [],
   "source": [
    "## Function\n",
    "\n",
    "def pct_rank_qcut(series, n):\n",
    "    edges = pd.Series([float(i) / n for i in range (n +1)])\n",
    "    \n",
    "    f = lambda x: (edges >= x).values.argmax()\n",
    "    \n",
    "    return series.rank(pct = 1).apply(f)"
   ]
  },
  {
   "cell_type": "code",
   "execution_count": 66,
   "metadata": {},
   "outputs": [],
   "source": [
    "f_groups = pct_rank_qcut(data_agg['Frequency'], 2)"
   ]
  },
  {
   "cell_type": "code",
   "execution_count": 67,
   "metadata": {},
   "outputs": [
    {
     "data": {
      "text/plain": [
       "Frequency\n",
       "1    79915\n",
       "2    14172\n",
       "Name: count, dtype: int64"
      ]
     },
     "execution_count": 67,
     "metadata": {},
     "output_type": "execute_result"
    }
   ],
   "source": [
    "f_groups.value_counts()"
   ]
  },
  {
   "cell_type": "code",
   "execution_count": 68,
   "metadata": {},
   "outputs": [],
   "source": [
    "# Cria coluna F no dataframe\n",
    "data_agg = data_agg.assign(F = f_groups.values)"
   ]
  },
  {
   "cell_type": "code",
   "execution_count": 78,
   "metadata": {},
   "outputs": [
    {
     "data": {
      "text/html": [
       "<div>\n",
       "<style scoped>\n",
       "    .dataframe tbody tr th:only-of-type {\n",
       "        vertical-align: middle;\n",
       "    }\n",
       "\n",
       "    .dataframe tbody tr th {\n",
       "        vertical-align: top;\n",
       "    }\n",
       "\n",
       "    .dataframe thead th {\n",
       "        text-align: right;\n",
       "    }\n",
       "</style>\n",
       "<table border=\"1\" class=\"dataframe\">\n",
       "  <thead>\n",
       "    <tr style=\"text-align: right;\">\n",
       "      <th></th>\n",
       "      <th>Recency</th>\n",
       "      <th>Frequency</th>\n",
       "      <th>Monetary</th>\n",
       "      <th>R</th>\n",
       "      <th>F</th>\n",
       "    </tr>\n",
       "    <tr>\n",
       "      <th>customer_unique_id</th>\n",
       "      <th></th>\n",
       "      <th></th>\n",
       "      <th></th>\n",
       "      <th></th>\n",
       "      <th></th>\n",
       "    </tr>\n",
       "  </thead>\n",
       "  <tbody>\n",
       "    <tr>\n",
       "      <th>C09696</th>\n",
       "      <td>294</td>\n",
       "      <td>1</td>\n",
       "      <td>40.10</td>\n",
       "      <td>2</td>\n",
       "      <td>1</td>\n",
       "    </tr>\n",
       "    <tr>\n",
       "      <th>C25007</th>\n",
       "      <td>74</td>\n",
       "      <td>1</td>\n",
       "      <td>71.39</td>\n",
       "      <td>4</td>\n",
       "      <td>1</td>\n",
       "    </tr>\n",
       "    <tr>\n",
       "      <th>C54811</th>\n",
       "      <td>407</td>\n",
       "      <td>1</td>\n",
       "      <td>155.73</td>\n",
       "      <td>1</td>\n",
       "      <td>1</td>\n",
       "    </tr>\n",
       "    <tr>\n",
       "      <th>C63988</th>\n",
       "      <td>373</td>\n",
       "      <td>1</td>\n",
       "      <td>77.57</td>\n",
       "      <td>1</td>\n",
       "      <td>1</td>\n",
       "    </tr>\n",
       "    <tr>\n",
       "      <th>C44393</th>\n",
       "      <td>499</td>\n",
       "      <td>1</td>\n",
       "      <td>136.05</td>\n",
       "      <td>1</td>\n",
       "      <td>1</td>\n",
       "    </tr>\n",
       "    <tr>\n",
       "      <th>C65557</th>\n",
       "      <td>290</td>\n",
       "      <td>1</td>\n",
       "      <td>368.60</td>\n",
       "      <td>2</td>\n",
       "      <td>1</td>\n",
       "    </tr>\n",
       "    <tr>\n",
       "      <th>C70576</th>\n",
       "      <td>68</td>\n",
       "      <td>2</td>\n",
       "      <td>348.70</td>\n",
       "      <td>4</td>\n",
       "      <td>2</td>\n",
       "    </tr>\n",
       "    <tr>\n",
       "      <th>C29489</th>\n",
       "      <td>451</td>\n",
       "      <td>1</td>\n",
       "      <td>247.05</td>\n",
       "      <td>1</td>\n",
       "      <td>1</td>\n",
       "    </tr>\n",
       "    <tr>\n",
       "      <th>C28544</th>\n",
       "      <td>477</td>\n",
       "      <td>1</td>\n",
       "      <td>42.00</td>\n",
       "      <td>1</td>\n",
       "      <td>1</td>\n",
       "    </tr>\n",
       "    <tr>\n",
       "      <th>C27340</th>\n",
       "      <td>165</td>\n",
       "      <td>1</td>\n",
       "      <td>37.79</td>\n",
       "      <td>3</td>\n",
       "      <td>1</td>\n",
       "    </tr>\n",
       "  </tbody>\n",
       "</table>\n",
       "</div>"
      ],
      "text/plain": [
       "                    Recency  Frequency  Monetary  R  F\n",
       "customer_unique_id                                    \n",
       "C09696                  294          1     40.10  2  1\n",
       "C25007                   74          1     71.39  4  1\n",
       "C54811                  407          1    155.73  1  1\n",
       "C63988                  373          1     77.57  1  1\n",
       "C44393                  499          1    136.05  1  1\n",
       "C65557                  290          1    368.60  2  1\n",
       "C70576                   68          2    348.70  4  2\n",
       "C29489                  451          1    247.05  1  1\n",
       "C28544                  477          1     42.00  1  1\n",
       "C27340                  165          1     37.79  3  1"
      ]
     },
     "execution_count": 78,
     "metadata": {},
     "output_type": "execute_result"
    }
   ],
   "source": [
    "data_agg.sample(10)"
   ]
  },
  {
   "cell_type": "code",
   "execution_count": 79,
   "metadata": {},
   "outputs": [],
   "source": [
    "# Criando labels para Monetary\n",
    "m_labels = range(1, 5)"
   ]
  },
  {
   "cell_type": "code",
   "execution_count": 80,
   "metadata": {},
   "outputs": [],
   "source": [
    "m_groups = pd.qcut(data_agg['Monetary'], q = 4, labels= m_labels)"
   ]
  },
  {
   "cell_type": "code",
   "execution_count": 81,
   "metadata": {},
   "outputs": [
    {
     "data": {
      "text/plain": [
       "Monetary\n",
       "1    23569\n",
       "4    23521\n",
       "3    23503\n",
       "2    23494\n",
       "Name: count, dtype: int64"
      ]
     },
     "execution_count": 81,
     "metadata": {},
     "output_type": "execute_result"
    }
   ],
   "source": [
    "m_groups.value_counts()"
   ]
  },
  {
   "cell_type": "code",
   "execution_count": 82,
   "metadata": {},
   "outputs": [],
   "source": [
    "# Cria nova coluna M\n",
    "data_agg = data_agg.assign(M = m_groups.values)"
   ]
  },
  {
   "cell_type": "code",
   "execution_count": 91,
   "metadata": {},
   "outputs": [
    {
     "data": {
      "text/html": [
       "<div>\n",
       "<style scoped>\n",
       "    .dataframe tbody tr th:only-of-type {\n",
       "        vertical-align: middle;\n",
       "    }\n",
       "\n",
       "    .dataframe tbody tr th {\n",
       "        vertical-align: top;\n",
       "    }\n",
       "\n",
       "    .dataframe thead th {\n",
       "        text-align: right;\n",
       "    }\n",
       "</style>\n",
       "<table border=\"1\" class=\"dataframe\">\n",
       "  <thead>\n",
       "    <tr style=\"text-align: right;\">\n",
       "      <th></th>\n",
       "      <th>Recency</th>\n",
       "      <th>Frequency</th>\n",
       "      <th>Monetary</th>\n",
       "      <th>R</th>\n",
       "      <th>F</th>\n",
       "      <th>M</th>\n",
       "    </tr>\n",
       "    <tr>\n",
       "      <th>customer_unique_id</th>\n",
       "      <th></th>\n",
       "      <th></th>\n",
       "      <th></th>\n",
       "      <th></th>\n",
       "      <th></th>\n",
       "      <th></th>\n",
       "    </tr>\n",
       "  </thead>\n",
       "  <tbody>\n",
       "    <tr>\n",
       "      <th>C27095</th>\n",
       "      <td>151</td>\n",
       "      <td>1</td>\n",
       "      <td>121.68</td>\n",
       "      <td>3</td>\n",
       "      <td>1</td>\n",
       "      <td>3</td>\n",
       "    </tr>\n",
       "    <tr>\n",
       "      <th>C28984</th>\n",
       "      <td>595</td>\n",
       "      <td>1</td>\n",
       "      <td>66.99</td>\n",
       "      <td>1</td>\n",
       "      <td>1</td>\n",
       "      <td>2</td>\n",
       "    </tr>\n",
       "    <tr>\n",
       "      <th>C28245</th>\n",
       "      <td>28</td>\n",
       "      <td>1</td>\n",
       "      <td>146.11</td>\n",
       "      <td>4</td>\n",
       "      <td>1</td>\n",
       "      <td>3</td>\n",
       "    </tr>\n",
       "    <tr>\n",
       "      <th>C91570</th>\n",
       "      <td>19</td>\n",
       "      <td>1</td>\n",
       "      <td>42.06</td>\n",
       "      <td>4</td>\n",
       "      <td>1</td>\n",
       "      <td>1</td>\n",
       "    </tr>\n",
       "    <tr>\n",
       "      <th>C50685</th>\n",
       "      <td>105</td>\n",
       "      <td>1</td>\n",
       "      <td>52.39</td>\n",
       "      <td>4</td>\n",
       "      <td>1</td>\n",
       "      <td>1</td>\n",
       "    </tr>\n",
       "    <tr>\n",
       "      <th>C52930</th>\n",
       "      <td>442</td>\n",
       "      <td>1</td>\n",
       "      <td>532.55</td>\n",
       "      <td>1</td>\n",
       "      <td>1</td>\n",
       "      <td>4</td>\n",
       "    </tr>\n",
       "    <tr>\n",
       "      <th>C10314</th>\n",
       "      <td>187</td>\n",
       "      <td>2</td>\n",
       "      <td>634.52</td>\n",
       "      <td>3</td>\n",
       "      <td>2</td>\n",
       "      <td>4</td>\n",
       "    </tr>\n",
       "    <tr>\n",
       "      <th>C95868</th>\n",
       "      <td>20</td>\n",
       "      <td>1</td>\n",
       "      <td>136.64</td>\n",
       "      <td>4</td>\n",
       "      <td>1</td>\n",
       "      <td>3</td>\n",
       "    </tr>\n",
       "    <tr>\n",
       "      <th>C33171</th>\n",
       "      <td>87</td>\n",
       "      <td>1</td>\n",
       "      <td>62.15</td>\n",
       "      <td>4</td>\n",
       "      <td>1</td>\n",
       "      <td>1</td>\n",
       "    </tr>\n",
       "    <tr>\n",
       "      <th>C45229</th>\n",
       "      <td>28</td>\n",
       "      <td>1</td>\n",
       "      <td>139.06</td>\n",
       "      <td>4</td>\n",
       "      <td>1</td>\n",
       "      <td>3</td>\n",
       "    </tr>\n",
       "  </tbody>\n",
       "</table>\n",
       "</div>"
      ],
      "text/plain": [
       "                    Recency  Frequency  Monetary  R  F  M\n",
       "customer_unique_id                                       \n",
       "C27095                  151          1    121.68  3  1  3\n",
       "C28984                  595          1     66.99  1  1  2\n",
       "C28245                   28          1    146.11  4  1  3\n",
       "C91570                   19          1     42.06  4  1  1\n",
       "C50685                  105          1     52.39  4  1  1\n",
       "C52930                  442          1    532.55  1  1  4\n",
       "C10314                  187          2    634.52  3  2  4\n",
       "C95868                   20          1    136.64  4  1  3\n",
       "C33171                   87          1     62.15  4  1  1\n",
       "C45229                   28          1    139.06  4  1  3"
      ]
     },
     "execution_count": 91,
     "metadata": {},
     "output_type": "execute_result"
    }
   ],
   "source": [
    "data_agg.sample(10)"
   ]
  },
  {
   "cell_type": "code",
   "execution_count": 92,
   "metadata": {},
   "outputs": [
    {
     "name": "stdout",
     "output_type": "stream",
     "text": [
      "<class 'pandas.core.frame.DataFrame'>\n",
      "Index: 94087 entries, C00001 to C96999\n",
      "Data columns (total 6 columns):\n",
      " #   Column     Non-Null Count  Dtype   \n",
      "---  ------     --------------  -----   \n",
      " 0   Recency    94087 non-null  int64   \n",
      " 1   Frequency  94087 non-null  int64   \n",
      " 2   Monetary   94087 non-null  float64 \n",
      " 3   R          94087 non-null  category\n",
      " 4   F          94087 non-null  int64   \n",
      " 5   M          94087 non-null  category\n",
      "dtypes: category(2), float64(1), int64(3)\n",
      "memory usage: 5.8+ MB\n"
     ]
    }
   ],
   "source": [
    "data_agg.info()"
   ]
  },
  {
   "cell_type": "code",
   "execution_count": null,
   "metadata": {},
   "outputs": [],
   "source": [
    "# Converte tipo R e M para inteiro com label encoding\n",
    "data_le = LabelEncoder()"
   ]
  },
  {
   "cell_type": "code",
   "execution_count": 94,
   "metadata": {},
   "outputs": [],
   "source": [
    "data_agg['R'] = data_le.fit_transform(data_agg['R']) + 1\n",
    "data_agg['M'] = data_le.fit_transform(data_agg['M']) + 1"
   ]
  },
  {
   "cell_type": "code",
   "execution_count": 95,
   "metadata": {},
   "outputs": [
    {
     "name": "stdout",
     "output_type": "stream",
     "text": [
      "<class 'pandas.core.frame.DataFrame'>\n",
      "Index: 94087 entries, C00001 to C96999\n",
      "Data columns (total 6 columns):\n",
      " #   Column     Non-Null Count  Dtype  \n",
      "---  ------     --------------  -----  \n",
      " 0   Recency    94087 non-null  int64  \n",
      " 1   Frequency  94087 non-null  int64  \n",
      " 2   Monetary   94087 non-null  float64\n",
      " 3   R          94087 non-null  int64  \n",
      " 4   F          94087 non-null  int64  \n",
      " 5   M          94087 non-null  int64  \n",
      "dtypes: float64(1), int64(5)\n",
      "memory usage: 7.0+ MB\n"
     ]
    }
   ],
   "source": [
    "data_agg.info()"
   ]
  },
  {
   "cell_type": "code",
   "execution_count": 96,
   "metadata": {},
   "outputs": [],
   "source": [
    "## Criando os Segmentos RFM\n",
    "# Cria o RFM Score\n",
    "data_agg['Score_RFM'] = data_agg[['R', 'F', 'M']].sum(axis=1)"
   ]
  },
  {
   "cell_type": "code",
   "execution_count": 97,
   "metadata": {},
   "outputs": [
    {
     "data": {
      "text/html": [
       "<div>\n",
       "<style scoped>\n",
       "    .dataframe tbody tr th:only-of-type {\n",
       "        vertical-align: middle;\n",
       "    }\n",
       "\n",
       "    .dataframe tbody tr th {\n",
       "        vertical-align: top;\n",
       "    }\n",
       "\n",
       "    .dataframe thead th {\n",
       "        text-align: right;\n",
       "    }\n",
       "</style>\n",
       "<table border=\"1\" class=\"dataframe\">\n",
       "  <thead>\n",
       "    <tr style=\"text-align: right;\">\n",
       "      <th></th>\n",
       "      <th>Recency</th>\n",
       "      <th>Frequency</th>\n",
       "      <th>Monetary</th>\n",
       "      <th>R</th>\n",
       "      <th>F</th>\n",
       "      <th>M</th>\n",
       "      <th>Score_RFM</th>\n",
       "    </tr>\n",
       "    <tr>\n",
       "      <th>customer_unique_id</th>\n",
       "      <th></th>\n",
       "      <th></th>\n",
       "      <th></th>\n",
       "      <th></th>\n",
       "      <th></th>\n",
       "      <th></th>\n",
       "      <th></th>\n",
       "    </tr>\n",
       "  </thead>\n",
       "  <tbody>\n",
       "    <tr>\n",
       "      <th>C00001</th>\n",
       "      <td>73</td>\n",
       "      <td>1</td>\n",
       "      <td>121.82</td>\n",
       "      <td>4</td>\n",
       "      <td>1</td>\n",
       "      <td>3</td>\n",
       "      <td>8</td>\n",
       "    </tr>\n",
       "    <tr>\n",
       "      <th>C00002</th>\n",
       "      <td>66</td>\n",
       "      <td>1</td>\n",
       "      <td>155.76</td>\n",
       "      <td>4</td>\n",
       "      <td>1</td>\n",
       "      <td>3</td>\n",
       "      <td>8</td>\n",
       "    </tr>\n",
       "    <tr>\n",
       "      <th>C00003</th>\n",
       "      <td>337</td>\n",
       "      <td>1</td>\n",
       "      <td>181.55</td>\n",
       "      <td>2</td>\n",
       "      <td>1</td>\n",
       "      <td>3</td>\n",
       "      <td>6</td>\n",
       "    </tr>\n",
       "    <tr>\n",
       "      <th>C00004</th>\n",
       "      <td>193</td>\n",
       "      <td>1</td>\n",
       "      <td>90.78</td>\n",
       "      <td>3</td>\n",
       "      <td>1</td>\n",
       "      <td>2</td>\n",
       "      <td>6</td>\n",
       "    </tr>\n",
       "    <tr>\n",
       "      <th>C00005</th>\n",
       "      <td>283</td>\n",
       "      <td>1</td>\n",
       "      <td>266.89</td>\n",
       "      <td>2</td>\n",
       "      <td>1</td>\n",
       "      <td>4</td>\n",
       "      <td>7</td>\n",
       "    </tr>\n",
       "  </tbody>\n",
       "</table>\n",
       "</div>"
      ],
      "text/plain": [
       "                    Recency  Frequency  Monetary  R  F  M  Score_RFM\n",
       "customer_unique_id                                                  \n",
       "C00001                   73          1    121.82  4  1  3          8\n",
       "C00002                   66          1    155.76  4  1  3          8\n",
       "C00003                  337          1    181.55  2  1  3          6\n",
       "C00004                  193          1     90.78  3  1  2          6\n",
       "C00005                  283          1    266.89  2  1  4          7"
      ]
     },
     "execution_count": 97,
     "metadata": {},
     "output_type": "execute_result"
    }
   ],
   "source": [
    "data_agg.head()"
   ]
  },
  {
   "cell_type": "code",
   "execution_count": 100,
   "metadata": {},
   "outputs": [],
   "source": [
    "## Concatenando os valores RFM para gerar o segmentos de RFM\n",
    "def join_rfm(x):\n",
    "    return str(x['R']) + str(x['F']) + str(x['M'])"
   ]
  },
  {
   "cell_type": "code",
   "execution_count": 101,
   "metadata": {},
   "outputs": [],
   "source": [
    "data_agg['Segment_RFM'] = data_agg.apply(join_rfm, axis=1)"
   ]
  },
  {
   "cell_type": "code",
   "execution_count": 102,
   "metadata": {},
   "outputs": [
    {
     "data": {
      "text/html": [
       "<div>\n",
       "<style scoped>\n",
       "    .dataframe tbody tr th:only-of-type {\n",
       "        vertical-align: middle;\n",
       "    }\n",
       "\n",
       "    .dataframe tbody tr th {\n",
       "        vertical-align: top;\n",
       "    }\n",
       "\n",
       "    .dataframe thead th {\n",
       "        text-align: right;\n",
       "    }\n",
       "</style>\n",
       "<table border=\"1\" class=\"dataframe\">\n",
       "  <thead>\n",
       "    <tr style=\"text-align: right;\">\n",
       "      <th></th>\n",
       "      <th>Recency</th>\n",
       "      <th>Frequency</th>\n",
       "      <th>Monetary</th>\n",
       "      <th>R</th>\n",
       "      <th>F</th>\n",
       "      <th>M</th>\n",
       "      <th>Score_RFM</th>\n",
       "      <th>Segment_RFM</th>\n",
       "    </tr>\n",
       "    <tr>\n",
       "      <th>customer_unique_id</th>\n",
       "      <th></th>\n",
       "      <th></th>\n",
       "      <th></th>\n",
       "      <th></th>\n",
       "      <th></th>\n",
       "      <th></th>\n",
       "      <th></th>\n",
       "      <th></th>\n",
       "    </tr>\n",
       "  </thead>\n",
       "  <tbody>\n",
       "    <tr>\n",
       "      <th>C00001</th>\n",
       "      <td>73</td>\n",
       "      <td>1</td>\n",
       "      <td>121.82</td>\n",
       "      <td>4</td>\n",
       "      <td>1</td>\n",
       "      <td>3</td>\n",
       "      <td>8</td>\n",
       "      <td>4.01.03.0</td>\n",
       "    </tr>\n",
       "    <tr>\n",
       "      <th>C00002</th>\n",
       "      <td>66</td>\n",
       "      <td>1</td>\n",
       "      <td>155.76</td>\n",
       "      <td>4</td>\n",
       "      <td>1</td>\n",
       "      <td>3</td>\n",
       "      <td>8</td>\n",
       "      <td>4.01.03.0</td>\n",
       "    </tr>\n",
       "    <tr>\n",
       "      <th>C00003</th>\n",
       "      <td>337</td>\n",
       "      <td>1</td>\n",
       "      <td>181.55</td>\n",
       "      <td>2</td>\n",
       "      <td>1</td>\n",
       "      <td>3</td>\n",
       "      <td>6</td>\n",
       "      <td>2.01.03.0</td>\n",
       "    </tr>\n",
       "    <tr>\n",
       "      <th>C00004</th>\n",
       "      <td>193</td>\n",
       "      <td>1</td>\n",
       "      <td>90.78</td>\n",
       "      <td>3</td>\n",
       "      <td>1</td>\n",
       "      <td>2</td>\n",
       "      <td>6</td>\n",
       "      <td>3.01.02.0</td>\n",
       "    </tr>\n",
       "    <tr>\n",
       "      <th>C00005</th>\n",
       "      <td>283</td>\n",
       "      <td>1</td>\n",
       "      <td>266.89</td>\n",
       "      <td>2</td>\n",
       "      <td>1</td>\n",
       "      <td>4</td>\n",
       "      <td>7</td>\n",
       "      <td>2.01.04.0</td>\n",
       "    </tr>\n",
       "  </tbody>\n",
       "</table>\n",
       "</div>"
      ],
      "text/plain": [
       "                    Recency  Frequency  Monetary  R  F  M  Score_RFM  \\\n",
       "customer_unique_id                                                     \n",
       "C00001                   73          1    121.82  4  1  3          8   \n",
       "C00002                   66          1    155.76  4  1  3          8   \n",
       "C00003                  337          1    181.55  2  1  3          6   \n",
       "C00004                  193          1     90.78  3  1  2          6   \n",
       "C00005                  283          1    266.89  2  1  4          7   \n",
       "\n",
       "                   Segment_RFM  \n",
       "customer_unique_id              \n",
       "C00001               4.01.03.0  \n",
       "C00002               4.01.03.0  \n",
       "C00003               2.01.03.0  \n",
       "C00004               3.01.02.0  \n",
       "C00005               2.01.04.0  "
      ]
     },
     "execution_count": 102,
     "metadata": {},
     "output_type": "execute_result"
    }
   ],
   "source": [
    "data_agg.head()"
   ]
  },
  {
   "cell_type": "code",
   "execution_count": 103,
   "metadata": {},
   "outputs": [],
   "source": [
    "data_agg['Segment_RFM'] = data_agg.apply(join_rfm, axis=1)"
   ]
  },
  {
   "cell_type": "code",
   "execution_count": 104,
   "metadata": {},
   "outputs": [
    {
     "data": {
      "text/html": [
       "<div>\n",
       "<style scoped>\n",
       "    .dataframe tbody tr th:only-of-type {\n",
       "        vertical-align: middle;\n",
       "    }\n",
       "\n",
       "    .dataframe tbody tr th {\n",
       "        vertical-align: top;\n",
       "    }\n",
       "\n",
       "    .dataframe thead th {\n",
       "        text-align: right;\n",
       "    }\n",
       "</style>\n",
       "<table border=\"1\" class=\"dataframe\">\n",
       "  <thead>\n",
       "    <tr style=\"text-align: right;\">\n",
       "      <th></th>\n",
       "      <th>Recency</th>\n",
       "      <th>Frequency</th>\n",
       "      <th>Monetary</th>\n",
       "      <th>R</th>\n",
       "      <th>F</th>\n",
       "      <th>M</th>\n",
       "      <th>Score_RFM</th>\n",
       "      <th>Segment_RFM</th>\n",
       "    </tr>\n",
       "    <tr>\n",
       "      <th>customer_unique_id</th>\n",
       "      <th></th>\n",
       "      <th></th>\n",
       "      <th></th>\n",
       "      <th></th>\n",
       "      <th></th>\n",
       "      <th></th>\n",
       "      <th></th>\n",
       "      <th></th>\n",
       "    </tr>\n",
       "  </thead>\n",
       "  <tbody>\n",
       "    <tr>\n",
       "      <th>C00001</th>\n",
       "      <td>73</td>\n",
       "      <td>1</td>\n",
       "      <td>121.82</td>\n",
       "      <td>4</td>\n",
       "      <td>1</td>\n",
       "      <td>3</td>\n",
       "      <td>8</td>\n",
       "      <td>413</td>\n",
       "    </tr>\n",
       "    <tr>\n",
       "      <th>C00002</th>\n",
       "      <td>66</td>\n",
       "      <td>1</td>\n",
       "      <td>155.76</td>\n",
       "      <td>4</td>\n",
       "      <td>1</td>\n",
       "      <td>3</td>\n",
       "      <td>8</td>\n",
       "      <td>413</td>\n",
       "    </tr>\n",
       "    <tr>\n",
       "      <th>C00003</th>\n",
       "      <td>337</td>\n",
       "      <td>1</td>\n",
       "      <td>181.55</td>\n",
       "      <td>2</td>\n",
       "      <td>1</td>\n",
       "      <td>3</td>\n",
       "      <td>6</td>\n",
       "      <td>213</td>\n",
       "    </tr>\n",
       "    <tr>\n",
       "      <th>C00004</th>\n",
       "      <td>193</td>\n",
       "      <td>1</td>\n",
       "      <td>90.78</td>\n",
       "      <td>3</td>\n",
       "      <td>1</td>\n",
       "      <td>2</td>\n",
       "      <td>6</td>\n",
       "      <td>312</td>\n",
       "    </tr>\n",
       "    <tr>\n",
       "      <th>C00005</th>\n",
       "      <td>283</td>\n",
       "      <td>1</td>\n",
       "      <td>266.89</td>\n",
       "      <td>2</td>\n",
       "      <td>1</td>\n",
       "      <td>4</td>\n",
       "      <td>7</td>\n",
       "      <td>214</td>\n",
       "    </tr>\n",
       "  </tbody>\n",
       "</table>\n",
       "</div>"
      ],
      "text/plain": [
       "                    Recency  Frequency  Monetary  R  F  M  Score_RFM  \\\n",
       "customer_unique_id                                                     \n",
       "C00001                   73          1    121.82  4  1  3          8   \n",
       "C00002                   66          1    155.76  4  1  3          8   \n",
       "C00003                  337          1    181.55  2  1  3          6   \n",
       "C00004                  193          1     90.78  3  1  2          6   \n",
       "C00005                  283          1    266.89  2  1  4          7   \n",
       "\n",
       "                   Segment_RFM  \n",
       "customer_unique_id              \n",
       "C00001                     413  \n",
       "C00002                     413  \n",
       "C00003                     213  \n",
       "C00004                     312  \n",
       "C00005                     214  "
      ]
     },
     "execution_count": 104,
     "metadata": {},
     "output_type": "execute_result"
    }
   ],
   "source": [
    "data_agg.head()"
   ]
  },
  {
   "cell_type": "code",
   "execution_count": 105,
   "metadata": {},
   "outputs": [],
   "source": [
    "## Contagem de número de segmentos unicos\n",
    "rfm_count_unique = data_agg.groupby('Segment_RFM')['Segment_RFM'].nunique()"
   ]
  },
  {
   "cell_type": "code",
   "execution_count": 107,
   "metadata": {},
   "outputs": [
    {
     "data": {
      "text/plain": [
       "32"
      ]
     },
     "execution_count": 107,
     "metadata": {},
     "output_type": "execute_result"
    }
   ],
   "source": [
    "rfm_count_unique.sum()"
   ]
  },
  {
   "cell_type": "code",
   "execution_count": 108,
   "metadata": {},
   "outputs": [],
   "source": [
    "## Copia dataframe\n",
    "rfm = data_agg"
   ]
  },
  {
   "cell_type": "code",
   "execution_count": 109,
   "metadata": {},
   "outputs": [
    {
     "data": {
      "text/html": [
       "<div>\n",
       "<style scoped>\n",
       "    .dataframe tbody tr th:only-of-type {\n",
       "        vertical-align: middle;\n",
       "    }\n",
       "\n",
       "    .dataframe tbody tr th {\n",
       "        vertical-align: top;\n",
       "    }\n",
       "\n",
       "    .dataframe thead th {\n",
       "        text-align: right;\n",
       "    }\n",
       "</style>\n",
       "<table border=\"1\" class=\"dataframe\">\n",
       "  <thead>\n",
       "    <tr style=\"text-align: right;\">\n",
       "      <th></th>\n",
       "      <th>Recency</th>\n",
       "      <th>Frequency</th>\n",
       "      <th>Monetary</th>\n",
       "      <th>R</th>\n",
       "      <th>F</th>\n",
       "      <th>M</th>\n",
       "      <th>Score_RFM</th>\n",
       "      <th>Segment_RFM</th>\n",
       "    </tr>\n",
       "    <tr>\n",
       "      <th>customer_unique_id</th>\n",
       "      <th></th>\n",
       "      <th></th>\n",
       "      <th></th>\n",
       "      <th></th>\n",
       "      <th></th>\n",
       "      <th></th>\n",
       "      <th></th>\n",
       "      <th></th>\n",
       "    </tr>\n",
       "  </thead>\n",
       "  <tbody>\n",
       "    <tr>\n",
       "      <th>C00001</th>\n",
       "      <td>73</td>\n",
       "      <td>1</td>\n",
       "      <td>121.82</td>\n",
       "      <td>4</td>\n",
       "      <td>1</td>\n",
       "      <td>3</td>\n",
       "      <td>8</td>\n",
       "      <td>413</td>\n",
       "    </tr>\n",
       "    <tr>\n",
       "      <th>C00002</th>\n",
       "      <td>66</td>\n",
       "      <td>1</td>\n",
       "      <td>155.76</td>\n",
       "      <td>4</td>\n",
       "      <td>1</td>\n",
       "      <td>3</td>\n",
       "      <td>8</td>\n",
       "      <td>413</td>\n",
       "    </tr>\n",
       "    <tr>\n",
       "      <th>C00003</th>\n",
       "      <td>337</td>\n",
       "      <td>1</td>\n",
       "      <td>181.55</td>\n",
       "      <td>2</td>\n",
       "      <td>1</td>\n",
       "      <td>3</td>\n",
       "      <td>6</td>\n",
       "      <td>213</td>\n",
       "    </tr>\n",
       "    <tr>\n",
       "      <th>C00004</th>\n",
       "      <td>193</td>\n",
       "      <td>1</td>\n",
       "      <td>90.78</td>\n",
       "      <td>3</td>\n",
       "      <td>1</td>\n",
       "      <td>2</td>\n",
       "      <td>6</td>\n",
       "      <td>312</td>\n",
       "    </tr>\n",
       "    <tr>\n",
       "      <th>C00005</th>\n",
       "      <td>283</td>\n",
       "      <td>1</td>\n",
       "      <td>266.89</td>\n",
       "      <td>2</td>\n",
       "      <td>1</td>\n",
       "      <td>4</td>\n",
       "      <td>7</td>\n",
       "      <td>214</td>\n",
       "    </tr>\n",
       "  </tbody>\n",
       "</table>\n",
       "</div>"
      ],
      "text/plain": [
       "                    Recency  Frequency  Monetary  R  F  M  Score_RFM  \\\n",
       "customer_unique_id                                                     \n",
       "C00001                   73          1    121.82  4  1  3          8   \n",
       "C00002                   66          1    155.76  4  1  3          8   \n",
       "C00003                  337          1    181.55  2  1  3          6   \n",
       "C00004                  193          1     90.78  3  1  2          6   \n",
       "C00005                  283          1    266.89  2  1  4          7   \n",
       "\n",
       "                   Segment_RFM  \n",
       "customer_unique_id              \n",
       "C00001                     413  \n",
       "C00002                     413  \n",
       "C00003                     213  \n",
       "C00004                     312  \n",
       "C00005                     214  "
      ]
     },
     "execution_count": 109,
     "metadata": {},
     "output_type": "execute_result"
    }
   ],
   "source": [
    "rfm.head()"
   ]
  },
  {
   "cell_type": "code",
   "execution_count": 110,
   "metadata": {},
   "outputs": [
    {
     "name": "stdout",
     "output_type": "stream",
     "text": [
      "<class 'pandas.core.frame.DataFrame'>\n",
      "Index: 94087 entries, C00001 to C96999\n",
      "Data columns (total 8 columns):\n",
      " #   Column       Non-Null Count  Dtype  \n",
      "---  ------       --------------  -----  \n",
      " 0   Recency      94087 non-null  int64  \n",
      " 1   Frequency    94087 non-null  int64  \n",
      " 2   Monetary     94087 non-null  float64\n",
      " 3   R            94087 non-null  int64  \n",
      " 4   F            94087 non-null  int64  \n",
      " 5   M            94087 non-null  int64  \n",
      " 6   Score_RFM    94087 non-null  int64  \n",
      " 7   Segment_RFM  94087 non-null  object \n",
      "dtypes: float64(1), int64(6), object(1)\n",
      "memory usage: 8.5+ MB\n"
     ]
    }
   ],
   "source": [
    "rfm.info()"
   ]
  },
  {
   "cell_type": "code",
   "execution_count": 113,
   "metadata": {},
   "outputs": [],
   "source": [
    "# Ajusta o tipo de dado\n",
    "rfm['Segment_RFM'] = rfm['Segment_RFM'].astype(str).astype('Int64')"
   ]
  },
  {
   "cell_type": "code",
   "execution_count": 114,
   "metadata": {},
   "outputs": [
    {
     "name": "stdout",
     "output_type": "stream",
     "text": [
      "<class 'pandas.core.frame.DataFrame'>\n",
      "Index: 94087 entries, C00001 to C96999\n",
      "Data columns (total 8 columns):\n",
      " #   Column       Non-Null Count  Dtype  \n",
      "---  ------       --------------  -----  \n",
      " 0   Recency      94087 non-null  int64  \n",
      " 1   Frequency    94087 non-null  int64  \n",
      " 2   Monetary     94087 non-null  float64\n",
      " 3   R            94087 non-null  int64  \n",
      " 4   F            94087 non-null  int64  \n",
      " 5   M            94087 non-null  int64  \n",
      " 6   Score_RFM    94087 non-null  int64  \n",
      " 7   Segment_RFM  94087 non-null  Int64  \n",
      "dtypes: Int64(1), float64(1), int64(6)\n",
      "memory usage: 8.6+ MB\n"
     ]
    }
   ],
   "source": [
    "rfm.info()"
   ]
  },
  {
   "cell_type": "code",
   "execution_count": 115,
   "metadata": {},
   "outputs": [
    {
     "data": {
      "text/html": [
       "<div>\n",
       "<style scoped>\n",
       "    .dataframe tbody tr th:only-of-type {\n",
       "        vertical-align: middle;\n",
       "    }\n",
       "\n",
       "    .dataframe tbody tr th {\n",
       "        vertical-align: top;\n",
       "    }\n",
       "\n",
       "    .dataframe thead th {\n",
       "        text-align: right;\n",
       "    }\n",
       "</style>\n",
       "<table border=\"1\" class=\"dataframe\">\n",
       "  <thead>\n",
       "    <tr style=\"text-align: right;\">\n",
       "      <th></th>\n",
       "      <th>Recency</th>\n",
       "      <th>Frequency</th>\n",
       "      <th>Monetary</th>\n",
       "      <th>R</th>\n",
       "      <th>F</th>\n",
       "      <th>M</th>\n",
       "      <th>Score_RFM</th>\n",
       "      <th>Segment_RFM</th>\n",
       "    </tr>\n",
       "  </thead>\n",
       "  <tbody>\n",
       "    <tr>\n",
       "      <th>count</th>\n",
       "      <td>94087.000000</td>\n",
       "      <td>94087.000000</td>\n",
       "      <td>94087.000000</td>\n",
       "      <td>94087.000000</td>\n",
       "      <td>94087.000000</td>\n",
       "      <td>94087.000000</td>\n",
       "      <td>94087.000000</td>\n",
       "      <td>94087.0</td>\n",
       "    </tr>\n",
       "    <tr>\n",
       "      <th>mean</th>\n",
       "      <td>243.803575</td>\n",
       "      <td>1.239077</td>\n",
       "      <td>214.249054</td>\n",
       "      <td>2.503895</td>\n",
       "      <td>1.150627</td>\n",
       "      <td>2.499283</td>\n",
       "      <td>6.153804</td>\n",
       "      <td>264.395081</td>\n",
       "    </tr>\n",
       "    <tr>\n",
       "      <th>std</th>\n",
       "      <td>153.156983</td>\n",
       "      <td>0.850594</td>\n",
       "      <td>647.368039</td>\n",
       "      <td>1.119577</td>\n",
       "      <td>0.357686</td>\n",
       "      <td>1.118482</td>\n",
       "      <td>1.715630</td>\n",
       "      <td>112.037091</td>\n",
       "    </tr>\n",
       "    <tr>\n",
       "      <th>min</th>\n",
       "      <td>1.000000</td>\n",
       "      <td>1.000000</td>\n",
       "      <td>9.590000</td>\n",
       "      <td>1.000000</td>\n",
       "      <td>1.000000</td>\n",
       "      <td>1.000000</td>\n",
       "      <td>3.000000</td>\n",
       "      <td>111.0</td>\n",
       "    </tr>\n",
       "    <tr>\n",
       "      <th>25%</th>\n",
       "      <td>120.000000</td>\n",
       "      <td>1.000000</td>\n",
       "      <td>64.000000</td>\n",
       "      <td>2.000000</td>\n",
       "      <td>1.000000</td>\n",
       "      <td>1.000000</td>\n",
       "      <td>5.000000</td>\n",
       "      <td>211.0</td>\n",
       "    </tr>\n",
       "    <tr>\n",
       "      <th>50%</th>\n",
       "      <td>224.000000</td>\n",
       "      <td>1.000000</td>\n",
       "      <td>113.150000</td>\n",
       "      <td>3.000000</td>\n",
       "      <td>1.000000</td>\n",
       "      <td>2.000000</td>\n",
       "      <td>6.000000</td>\n",
       "      <td>311.0</td>\n",
       "    </tr>\n",
       "    <tr>\n",
       "      <th>75%</th>\n",
       "      <td>353.000000</td>\n",
       "      <td>1.000000</td>\n",
       "      <td>203.770000</td>\n",
       "      <td>4.000000</td>\n",
       "      <td>1.000000</td>\n",
       "      <td>3.000000</td>\n",
       "      <td>7.000000</td>\n",
       "      <td>411.0</td>\n",
       "    </tr>\n",
       "    <tr>\n",
       "      <th>max</th>\n",
       "      <td>730.000000</td>\n",
       "      <td>75.000000</td>\n",
       "      <td>109312.640000</td>\n",
       "      <td>4.000000</td>\n",
       "      <td>2.000000</td>\n",
       "      <td>4.000000</td>\n",
       "      <td>10.000000</td>\n",
       "      <td>424.0</td>\n",
       "    </tr>\n",
       "  </tbody>\n",
       "</table>\n",
       "</div>"
      ],
      "text/plain": [
       "            Recency     Frequency       Monetary             R             F  \\\n",
       "count  94087.000000  94087.000000   94087.000000  94087.000000  94087.000000   \n",
       "mean     243.803575      1.239077     214.249054      2.503895      1.150627   \n",
       "std      153.156983      0.850594     647.368039      1.119577      0.357686   \n",
       "min        1.000000      1.000000       9.590000      1.000000      1.000000   \n",
       "25%      120.000000      1.000000      64.000000      2.000000      1.000000   \n",
       "50%      224.000000      1.000000     113.150000      3.000000      1.000000   \n",
       "75%      353.000000      1.000000     203.770000      4.000000      1.000000   \n",
       "max      730.000000     75.000000  109312.640000      4.000000      2.000000   \n",
       "\n",
       "                  M     Score_RFM  Segment_RFM  \n",
       "count  94087.000000  94087.000000      94087.0  \n",
       "mean       2.499283      6.153804   264.395081  \n",
       "std        1.118482      1.715630   112.037091  \n",
       "min        1.000000      3.000000        111.0  \n",
       "25%        1.000000      5.000000        211.0  \n",
       "50%        2.000000      6.000000        311.0  \n",
       "75%        3.000000      7.000000        411.0  \n",
       "max        4.000000     10.000000        424.0  "
      ]
     },
     "execution_count": 115,
     "metadata": {},
     "output_type": "execute_result"
    }
   ],
   "source": [
    "rfm.describe()"
   ]
  },
  {
   "cell_type": "markdown",
   "metadata": {},
   "source": [
    "### Segmentando Clientes"
   ]
  },
  {
   "cell_type": "code",
   "execution_count": 118,
   "metadata": {},
   "outputs": [],
   "source": [
    "# Funcao para criar os níveis de RFM\n",
    "\n",
    "def rfm_level(df):\n",
    "    if (df['Segment_RFM'] >= 424 | (df['Score_RFM'] >= 9)) :\n",
    "        return 'Clientes VIP'\n",
    "    elif ((df['Score_RFM'] >= 8) & (df['M'] == 4)) :\n",
    "        return 'Clientes Leais que Compram com Frequência'\n",
    "    elif ((df['Score_RFM'] >= 6) & (df['F'] >= 2)) :\n",
    "        return 'Clientes Leais'\n",
    "    elif ((df['Score_RFM'] <= 4) & (df['R'] == 1)) :\n",
    "        return 'Clientes Quase Perdidos'\n",
    "    elif ((df['Segment_RFM'] >= 221) | (df['Score_RFM'] >= 6)) :\n",
    "        return 'Potenciais Clientes Leais'\n",
    "    elif ((df['Segment_RFM'] >= 121) & (df['R'] == 1) | (df['Score_RFM'] == 5)) :\n",
    "        return 'Clientes Precisam de Atenção'\n",
    "    else:\n",
    "        return 'Clientes Perdidos'"
   ]
  },
  {
   "cell_type": "code",
   "execution_count": 119,
   "metadata": {},
   "outputs": [],
   "source": [
    "# Funcao para acoes RFM\n",
    "\n",
    "def rfm_action(df):\n",
    "    if (df['Segment_RFM'] >= 424 | (df['Score_RFM'] >= 9)) :\n",
    "        return 'Incentivos não relacionados a preços; Oferecer edição limitada e programas de fidelidade'\n",
    "    \n",
    "    elif ((df['Score_RFM'] >= 8) & (df['M'] == 4)):\n",
    "        return 'Oferecer itens mais caros (Upsell)'\n",
    "    \n",
    "    elif ((df['Score_RFM'] >= 6) & (df['F'] >= 2)):\n",
    "        return 'Oferecer programas de fidelidade e venda cruzada (Cross-Sell)'\n",
    "    \n",
    "    elif ((df['Score_RFM'] <= 4) & (df['R'] == 1)):\n",
    "        return 'Oferecer Incentivos de preços agressivos'\n",
    "    \n",
    "    elif ((df['Segment_RFM'] >= 221) | (df['Score_RFM'] >= 6)):\n",
    "        return 'Recomendações de venda cruzada e cupons de desconto'\n",
    "    \n",
    "    elif (((df['Segment_RFM'] >= 121) & (df['R'] == 1)) | (df['Score_RFM'] == 5)):\n",
    "        return 'Incentivos de preço e oferta por tempo limitado'\n",
    "    \n",
    "    else:\n",
    "        return 'Não gaste muito tentando readquirir esse cliente'"
   ]
  },
  {
   "cell_type": "code",
   "execution_count": 116,
   "metadata": {},
   "outputs": [
    {
     "data": {
      "text/html": [
       "<div>\n",
       "<style scoped>\n",
       "    .dataframe tbody tr th:only-of-type {\n",
       "        vertical-align: middle;\n",
       "    }\n",
       "\n",
       "    .dataframe tbody tr th {\n",
       "        vertical-align: top;\n",
       "    }\n",
       "\n",
       "    .dataframe thead th {\n",
       "        text-align: right;\n",
       "    }\n",
       "</style>\n",
       "<table border=\"1\" class=\"dataframe\">\n",
       "  <thead>\n",
       "    <tr style=\"text-align: right;\">\n",
       "      <th></th>\n",
       "      <th>Recency</th>\n",
       "      <th>Frequency</th>\n",
       "      <th>Monetary</th>\n",
       "      <th>R</th>\n",
       "      <th>F</th>\n",
       "      <th>M</th>\n",
       "      <th>Score_RFM</th>\n",
       "      <th>Segment_RFM</th>\n",
       "    </tr>\n",
       "    <tr>\n",
       "      <th>customer_unique_id</th>\n",
       "      <th></th>\n",
       "      <th></th>\n",
       "      <th></th>\n",
       "      <th></th>\n",
       "      <th></th>\n",
       "      <th></th>\n",
       "      <th></th>\n",
       "      <th></th>\n",
       "    </tr>\n",
       "  </thead>\n",
       "  <tbody>\n",
       "    <tr>\n",
       "      <th>C00001</th>\n",
       "      <td>73</td>\n",
       "      <td>1</td>\n",
       "      <td>121.82</td>\n",
       "      <td>4</td>\n",
       "      <td>1</td>\n",
       "      <td>3</td>\n",
       "      <td>8</td>\n",
       "      <td>413</td>\n",
       "    </tr>\n",
       "    <tr>\n",
       "      <th>C00002</th>\n",
       "      <td>66</td>\n",
       "      <td>1</td>\n",
       "      <td>155.76</td>\n",
       "      <td>4</td>\n",
       "      <td>1</td>\n",
       "      <td>3</td>\n",
       "      <td>8</td>\n",
       "      <td>413</td>\n",
       "    </tr>\n",
       "    <tr>\n",
       "      <th>C00003</th>\n",
       "      <td>337</td>\n",
       "      <td>1</td>\n",
       "      <td>181.55</td>\n",
       "      <td>2</td>\n",
       "      <td>1</td>\n",
       "      <td>3</td>\n",
       "      <td>6</td>\n",
       "      <td>213</td>\n",
       "    </tr>\n",
       "    <tr>\n",
       "      <th>C00004</th>\n",
       "      <td>193</td>\n",
       "      <td>1</td>\n",
       "      <td>90.78</td>\n",
       "      <td>3</td>\n",
       "      <td>1</td>\n",
       "      <td>2</td>\n",
       "      <td>6</td>\n",
       "      <td>312</td>\n",
       "    </tr>\n",
       "    <tr>\n",
       "      <th>C00005</th>\n",
       "      <td>283</td>\n",
       "      <td>1</td>\n",
       "      <td>266.89</td>\n",
       "      <td>2</td>\n",
       "      <td>1</td>\n",
       "      <td>4</td>\n",
       "      <td>7</td>\n",
       "      <td>214</td>\n",
       "    </tr>\n",
       "  </tbody>\n",
       "</table>\n",
       "</div>"
      ],
      "text/plain": [
       "                    Recency  Frequency  Monetary  R  F  M  Score_RFM  \\\n",
       "customer_unique_id                                                     \n",
       "C00001                   73          1    121.82  4  1  3          8   \n",
       "C00002                   66          1    155.76  4  1  3          8   \n",
       "C00003                  337          1    181.55  2  1  3          6   \n",
       "C00004                  193          1     90.78  3  1  2          6   \n",
       "C00005                  283          1    266.89  2  1  4          7   \n",
       "\n",
       "                    Segment_RFM  \n",
       "customer_unique_id               \n",
       "C00001                      413  \n",
       "C00002                      413  \n",
       "C00003                      213  \n",
       "C00004                      312  \n",
       "C00005                      214  "
      ]
     },
     "execution_count": 116,
     "metadata": {},
     "output_type": "execute_result"
    }
   ],
   "source": [
    "rfm.head()"
   ]
  },
  {
   "cell_type": "code",
   "execution_count": 120,
   "metadata": {},
   "outputs": [],
   "source": [
    "# Aplicando a funcao e criando nova variavel 'Segmento Cliente'\n",
    "\n",
    "rfm['Client_Segment'] = rfm.apply(rfm_level, axis= 1)"
   ]
  },
  {
   "cell_type": "code",
   "execution_count": 125,
   "metadata": {},
   "outputs": [],
   "source": [
    "rfm['Marketing_Action'] = rfm.apply(rfm_action, axis=1)"
   ]
  },
  {
   "cell_type": "code",
   "execution_count": 126,
   "metadata": {},
   "outputs": [
    {
     "data": {
      "text/html": [
       "<div>\n",
       "<style scoped>\n",
       "    .dataframe tbody tr th:only-of-type {\n",
       "        vertical-align: middle;\n",
       "    }\n",
       "\n",
       "    .dataframe tbody tr th {\n",
       "        vertical-align: top;\n",
       "    }\n",
       "\n",
       "    .dataframe thead th {\n",
       "        text-align: right;\n",
       "    }\n",
       "</style>\n",
       "<table border=\"1\" class=\"dataframe\">\n",
       "  <thead>\n",
       "    <tr style=\"text-align: right;\">\n",
       "      <th></th>\n",
       "      <th>Recency</th>\n",
       "      <th>Frequency</th>\n",
       "      <th>Monetary</th>\n",
       "      <th>R</th>\n",
       "      <th>F</th>\n",
       "      <th>M</th>\n",
       "      <th>Score_RFM</th>\n",
       "      <th>Segment_RFM</th>\n",
       "      <th>Client_Segment</th>\n",
       "      <th>Marketing_Action</th>\n",
       "    </tr>\n",
       "    <tr>\n",
       "      <th>customer_unique_id</th>\n",
       "      <th></th>\n",
       "      <th></th>\n",
       "      <th></th>\n",
       "      <th></th>\n",
       "      <th></th>\n",
       "      <th></th>\n",
       "      <th></th>\n",
       "      <th></th>\n",
       "      <th></th>\n",
       "      <th></th>\n",
       "    </tr>\n",
       "  </thead>\n",
       "  <tbody>\n",
       "    <tr>\n",
       "      <th>C20637</th>\n",
       "      <td>491</td>\n",
       "      <td>1</td>\n",
       "      <td>134.94</td>\n",
       "      <td>1</td>\n",
       "      <td>1</td>\n",
       "      <td>3</td>\n",
       "      <td>5</td>\n",
       "      <td>113</td>\n",
       "      <td>Clientes Precisam de Atenção</td>\n",
       "      <td>Incentivos de preço e oferta por tempo limitado</td>\n",
       "    </tr>\n",
       "    <tr>\n",
       "      <th>C12312</th>\n",
       "      <td>47</td>\n",
       "      <td>1</td>\n",
       "      <td>159.08</td>\n",
       "      <td>4</td>\n",
       "      <td>1</td>\n",
       "      <td>3</td>\n",
       "      <td>8</td>\n",
       "      <td>413</td>\n",
       "      <td>Potenciais Clientes Leais</td>\n",
       "      <td>Recomendações de venda cruzada e cupons de des...</td>\n",
       "    </tr>\n",
       "    <tr>\n",
       "      <th>C84538</th>\n",
       "      <td>373</td>\n",
       "      <td>2</td>\n",
       "      <td>122.16</td>\n",
       "      <td>1</td>\n",
       "      <td>2</td>\n",
       "      <td>3</td>\n",
       "      <td>6</td>\n",
       "      <td>123</td>\n",
       "      <td>Clientes Leais</td>\n",
       "      <td>Oferecer programas de fidelidade e venda cruza...</td>\n",
       "    </tr>\n",
       "    <tr>\n",
       "      <th>C54653</th>\n",
       "      <td>386</td>\n",
       "      <td>1</td>\n",
       "      <td>41.75</td>\n",
       "      <td>1</td>\n",
       "      <td>1</td>\n",
       "      <td>1</td>\n",
       "      <td>3</td>\n",
       "      <td>111</td>\n",
       "      <td>Clientes Quase Perdidos</td>\n",
       "      <td>Oferecer Incentivos de preços agressivos</td>\n",
       "    </tr>\n",
       "    <tr>\n",
       "      <th>C03848</th>\n",
       "      <td>274</td>\n",
       "      <td>1</td>\n",
       "      <td>211.60</td>\n",
       "      <td>2</td>\n",
       "      <td>1</td>\n",
       "      <td>4</td>\n",
       "      <td>7</td>\n",
       "      <td>214</td>\n",
       "      <td>Potenciais Clientes Leais</td>\n",
       "      <td>Recomendações de venda cruzada e cupons de des...</td>\n",
       "    </tr>\n",
       "    <tr>\n",
       "      <th>C40486</th>\n",
       "      <td>93</td>\n",
       "      <td>1</td>\n",
       "      <td>364.89</td>\n",
       "      <td>4</td>\n",
       "      <td>1</td>\n",
       "      <td>4</td>\n",
       "      <td>9</td>\n",
       "      <td>414</td>\n",
       "      <td>Clientes Leais que Compram com Frequência</td>\n",
       "      <td>Oferecer itens mais caros (Upsell)</td>\n",
       "    </tr>\n",
       "    <tr>\n",
       "      <th>C42399</th>\n",
       "      <td>250</td>\n",
       "      <td>1</td>\n",
       "      <td>250.40</td>\n",
       "      <td>2</td>\n",
       "      <td>1</td>\n",
       "      <td>4</td>\n",
       "      <td>7</td>\n",
       "      <td>214</td>\n",
       "      <td>Potenciais Clientes Leais</td>\n",
       "      <td>Recomendações de venda cruzada e cupons de des...</td>\n",
       "    </tr>\n",
       "    <tr>\n",
       "      <th>C26076</th>\n",
       "      <td>284</td>\n",
       "      <td>1</td>\n",
       "      <td>131.73</td>\n",
       "      <td>2</td>\n",
       "      <td>1</td>\n",
       "      <td>3</td>\n",
       "      <td>6</td>\n",
       "      <td>213</td>\n",
       "      <td>Potenciais Clientes Leais</td>\n",
       "      <td>Recomendações de venda cruzada e cupons de des...</td>\n",
       "    </tr>\n",
       "    <tr>\n",
       "      <th>C21085</th>\n",
       "      <td>432</td>\n",
       "      <td>1</td>\n",
       "      <td>352.70</td>\n",
       "      <td>1</td>\n",
       "      <td>1</td>\n",
       "      <td>4</td>\n",
       "      <td>6</td>\n",
       "      <td>114</td>\n",
       "      <td>Potenciais Clientes Leais</td>\n",
       "      <td>Recomendações de venda cruzada e cupons de des...</td>\n",
       "    </tr>\n",
       "    <tr>\n",
       "      <th>C66089</th>\n",
       "      <td>166</td>\n",
       "      <td>1</td>\n",
       "      <td>189.72</td>\n",
       "      <td>3</td>\n",
       "      <td>1</td>\n",
       "      <td>3</td>\n",
       "      <td>7</td>\n",
       "      <td>313</td>\n",
       "      <td>Potenciais Clientes Leais</td>\n",
       "      <td>Recomendações de venda cruzada e cupons de des...</td>\n",
       "    </tr>\n",
       "  </tbody>\n",
       "</table>\n",
       "</div>"
      ],
      "text/plain": [
       "                    Recency  Frequency  Monetary  R  F  M  Score_RFM  \\\n",
       "customer_unique_id                                                     \n",
       "C20637                  491          1    134.94  1  1  3          5   \n",
       "C12312                   47          1    159.08  4  1  3          8   \n",
       "C84538                  373          2    122.16  1  2  3          6   \n",
       "C54653                  386          1     41.75  1  1  1          3   \n",
       "C03848                  274          1    211.60  2  1  4          7   \n",
       "C40486                   93          1    364.89  4  1  4          9   \n",
       "C42399                  250          1    250.40  2  1  4          7   \n",
       "C26076                  284          1    131.73  2  1  3          6   \n",
       "C21085                  432          1    352.70  1  1  4          6   \n",
       "C66089                  166          1    189.72  3  1  3          7   \n",
       "\n",
       "                    Segment_RFM                             Client_Segment  \\\n",
       "customer_unique_id                                                           \n",
       "C20637                      113               Clientes Precisam de Atenção   \n",
       "C12312                      413                  Potenciais Clientes Leais   \n",
       "C84538                      123                             Clientes Leais   \n",
       "C54653                      111                    Clientes Quase Perdidos   \n",
       "C03848                      214                  Potenciais Clientes Leais   \n",
       "C40486                      414  Clientes Leais que Compram com Frequência   \n",
       "C42399                      214                  Potenciais Clientes Leais   \n",
       "C26076                      213                  Potenciais Clientes Leais   \n",
       "C21085                      114                  Potenciais Clientes Leais   \n",
       "C66089                      313                  Potenciais Clientes Leais   \n",
       "\n",
       "                                                     Marketing_Action  \n",
       "customer_unique_id                                                     \n",
       "C20637                Incentivos de preço e oferta por tempo limitado  \n",
       "C12312              Recomendações de venda cruzada e cupons de des...  \n",
       "C84538              Oferecer programas de fidelidade e venda cruza...  \n",
       "C54653                       Oferecer Incentivos de preços agressivos  \n",
       "C03848              Recomendações de venda cruzada e cupons de des...  \n",
       "C40486                             Oferecer itens mais caros (Upsell)  \n",
       "C42399              Recomendações de venda cruzada e cupons de des...  \n",
       "C26076              Recomendações de venda cruzada e cupons de des...  \n",
       "C21085              Recomendações de venda cruzada e cupons de des...  \n",
       "C66089              Recomendações de venda cruzada e cupons de des...  "
      ]
     },
     "execution_count": 126,
     "metadata": {},
     "output_type": "execute_result"
    }
   ],
   "source": [
    "rfm.sample(10)"
   ]
  },
  {
   "cell_type": "code",
   "execution_count": 130,
   "metadata": {},
   "outputs": [
    {
     "data": {
      "text/plain": [
       "Client_Segment\n",
       "Potenciais Clientes Leais                    48.275532\n",
       "Clientes Leais que Compram com Frequência    15.144494\n",
       "Clientes Quase Perdidos                      12.323700\n",
       "Clientes Precisam de Atenção                 11.737009\n",
       "Clientes Leais                                6.526938\n",
       "Clientes Perdidos                             5.992326\n",
       "Name: proportion, dtype: float64"
      ]
     },
     "execution_count": 130,
     "metadata": {},
     "output_type": "execute_result"
    }
   ],
   "source": [
    "rfm['Client_Segment'].value_counts(normalize=True)*100"
   ]
  },
  {
   "cell_type": "code",
   "execution_count": 135,
   "metadata": {},
   "outputs": [
    {
     "data": {
      "image/png": "[encoded data removed]",
      "text/plain": [
       "<Figure size 1200x600 with 1 Axes>"
      ]
     },
     "metadata": {},
     "output_type": "display_data"
    }
   ],
   "source": [
    "fig, axes = plt.subplots(1, 1, figsize = (12, 6))\n",
    "fig.suptitle('Client_Segment')\n",
    "rfm['Client_Segment'].value_counts().plot(kind = 'pie', autopct = '%1.1f%%');"
   ]
  },
  {
   "cell_type": "code",
   "execution_count": 136,
   "metadata": {},
   "outputs": [
    {
     "data": {
      "text/plain": [
       "Marketing_Action\n",
       "Recomendações de venda cruzada e cupons de desconto              45421\n",
       "Oferecer itens mais caros (Upsell)                               14249\n",
       "Oferecer Incentivos de preços agressivos                         11595\n",
       "Incentivos de preço e oferta por tempo limitado                  11043\n",
       "Oferecer programas de fidelidade e venda cruzada (Cross-Sell)     6141\n",
       "Não gaste muito tentando readquirir esse cliente                  5638\n",
       "Name: count, dtype: int64"
      ]
     },
     "execution_count": 136,
     "metadata": {},
     "output_type": "execute_result"
    }
   ],
   "source": [
    "rfm['Marketing_Action'].value_counts()"
   ]
  },
  {
   "cell_type": "code",
   "execution_count": 137,
   "metadata": {},
   "outputs": [
    {
     "data": {
      "text/plain": [
       "Marketing_Action\n",
       "Recomendações de venda cruzada e cupons de desconto              48.275532\n",
       "Oferecer itens mais caros (Upsell)                               15.144494\n",
       "Oferecer Incentivos de preços agressivos                         12.323700\n",
       "Incentivos de preço e oferta por tempo limitado                  11.737009\n",
       "Oferecer programas de fidelidade e venda cruzada (Cross-Sell)     6.526938\n",
       "Não gaste muito tentando readquirir esse cliente                  5.992326\n",
       "Name: proportion, dtype: float64"
      ]
     },
     "execution_count": 137,
     "metadata": {},
     "output_type": "execute_result"
    }
   ],
   "source": [
    "rfm['Marketing_Action'].value_counts(normalize=True)*100"
   ]
  },
  {
   "cell_type": "code",
   "execution_count": 141,
   "metadata": {},
   "outputs": [],
   "source": [
    "rfm.to_csv('rfm.csv')"
   ]
  },
  {
   "cell_type": "code",
   "execution_count": 142,
   "metadata": {},
   "outputs": [],
   "source": [
    "rfm_level_agg = rfm.groupby(['Client_Segment']).agg({'Recency': 'mean', 'Frequency': 'mean', 'Monetary': ['mean', 'count'], 'Marketing_Action': 'unique'}).round(1 )"
   ]
  },
  {
   "cell_type": "code",
   "execution_count": 143,
   "metadata": {},
   "outputs": [
    {
     "data": {
      "text/html": [
       "<div>\n",
       "<style scoped>\n",
       "    .dataframe tbody tr th:only-of-type {\n",
       "        vertical-align: middle;\n",
       "    }\n",
       "\n",
       "    .dataframe tbody tr th {\n",
       "        vertical-align: top;\n",
       "    }\n",
       "\n",
       "    .dataframe thead tr th {\n",
       "        text-align: left;\n",
       "    }\n",
       "\n",
       "    .dataframe thead tr:last-of-type th {\n",
       "        text-align: right;\n",
       "    }\n",
       "</style>\n",
       "<table border=\"1\" class=\"dataframe\">\n",
       "  <thead>\n",
       "    <tr>\n",
       "      <th></th>\n",
       "      <th>Recency</th>\n",
       "      <th>Frequency</th>\n",
       "      <th colspan=\"2\" halign=\"left\">Monetary</th>\n",
       "      <th>Marketing_Action</th>\n",
       "    </tr>\n",
       "    <tr>\n",
       "      <th></th>\n",
       "      <th>mean</th>\n",
       "      <th>mean</th>\n",
       "      <th>mean</th>\n",
       "      <th>count</th>\n",
       "      <th>unique</th>\n",
       "    </tr>\n",
       "    <tr>\n",
       "      <th>Client_Segment</th>\n",
       "      <th></th>\n",
       "      <th></th>\n",
       "      <th></th>\n",
       "      <th></th>\n",
       "      <th></th>\n",
       "    </tr>\n",
       "  </thead>\n",
       "  <tbody>\n",
       "    <tr>\n",
       "      <th>Clientes Leais</th>\n",
       "      <td>305.2</td>\n",
       "      <td>2.4</td>\n",
       "      <td>356.9</td>\n",
       "      <td>6141</td>\n",
       "      <td>[Oferecer programas de fidelidade e venda cruz...</td>\n",
       "    </tr>\n",
       "    <tr>\n",
       "      <th>Clientes Leais que Compram com Frequência</th>\n",
       "      <td>146.1</td>\n",
       "      <td>1.9</td>\n",
       "      <td>619.3</td>\n",
       "      <td>14249</td>\n",
       "      <td>[Oferecer itens mais caros (Upsell)]</td>\n",
       "    </tr>\n",
       "    <tr>\n",
       "      <th>Clientes Perdidos</th>\n",
       "      <td>281.9</td>\n",
       "      <td>1.0</td>\n",
       "      <td>44.2</td>\n",
       "      <td>5638</td>\n",
       "      <td>[Não gaste muito tentando readquirir esse clie...</td>\n",
       "    </tr>\n",
       "    <tr>\n",
       "      <th>Clientes Precisam de Atenção</th>\n",
       "      <td>368.5</td>\n",
       "      <td>1.0</td>\n",
       "      <td>114.9</td>\n",
       "      <td>11043</td>\n",
       "      <td>[Incentivos de preço e oferta por tempo limitado]</td>\n",
       "    </tr>\n",
       "    <tr>\n",
       "      <th>Clientes Quase Perdidos</th>\n",
       "      <td>457.3</td>\n",
       "      <td>1.0</td>\n",
       "      <td>64.2</td>\n",
       "      <td>11595</td>\n",
       "      <td>[Oferecer Incentivos de preços agressivos]</td>\n",
       "    </tr>\n",
       "    <tr>\n",
       "      <th>Potenciais Clientes Leais</th>\n",
       "      <td>176.6</td>\n",
       "      <td>1.0</td>\n",
       "      <td>151.5</td>\n",
       "      <td>45421</td>\n",
       "      <td>[Recomendações de venda cruzada e cupons de de...</td>\n",
       "    </tr>\n",
       "  </tbody>\n",
       "</table>\n",
       "</div>"
      ],
      "text/plain": [
       "                                          Recency Frequency Monetary         \\\n",
       "                                             mean      mean     mean  count   \n",
       "Client_Segment                                                                \n",
       "Clientes Leais                              305.2       2.4    356.9   6141   \n",
       "Clientes Leais que Compram com Frequência   146.1       1.9    619.3  14249   \n",
       "Clientes Perdidos                           281.9       1.0     44.2   5638   \n",
       "Clientes Precisam de Atenção                368.5       1.0    114.9  11043   \n",
       "Clientes Quase Perdidos                     457.3       1.0     64.2  11595   \n",
       "Potenciais Clientes Leais                   176.6       1.0    151.5  45421   \n",
       "\n",
       "                                                                            Marketing_Action  \n",
       "                                                                                      unique  \n",
       "Client_Segment                                                                                \n",
       "Clientes Leais                             [Oferecer programas de fidelidade e venda cruz...  \n",
       "Clientes Leais que Compram com Frequência               [Oferecer itens mais caros (Upsell)]  \n",
       "Clientes Perdidos                          [Não gaste muito tentando readquirir esse clie...  \n",
       "Clientes Precisam de Atenção               [Incentivos de preço e oferta por tempo limitado]  \n",
       "Clientes Quase Perdidos                           [Oferecer Incentivos de preços agressivos]  \n",
       "Potenciais Clientes Leais                  [Recomendações de venda cruzada e cupons de de...  "
      ]
     },
     "execution_count": 143,
     "metadata": {},
     "output_type": "execute_result"
    }
   ],
   "source": [
    "rfm_level_agg"
   ]
  },
  {
   "cell_type": "code",
   "execution_count": 144,
   "metadata": {},
   "outputs": [
    {
     "data": {
      "text/html": [
       "<div>\n",
       "<style scoped>\n",
       "    .dataframe tbody tr th:only-of-type {\n",
       "        vertical-align: middle;\n",
       "    }\n",
       "\n",
       "    .dataframe tbody tr th {\n",
       "        vertical-align: top;\n",
       "    }\n",
       "\n",
       "    .dataframe thead tr th {\n",
       "        text-align: left;\n",
       "    }\n",
       "</style>\n",
       "<table border=\"1\" class=\"dataframe\">\n",
       "  <thead>\n",
       "    <tr>\n",
       "      <th></th>\n",
       "      <th>Client_Segment</th>\n",
       "      <th>Recency</th>\n",
       "      <th>Frequency</th>\n",
       "      <th colspan=\"2\" halign=\"left\">Monetary</th>\n",
       "      <th>Marketing_Action</th>\n",
       "    </tr>\n",
       "    <tr>\n",
       "      <th></th>\n",
       "      <th></th>\n",
       "      <th>mean</th>\n",
       "      <th>mean</th>\n",
       "      <th>mean</th>\n",
       "      <th>count</th>\n",
       "      <th>unique</th>\n",
       "    </tr>\n",
       "  </thead>\n",
       "  <tbody>\n",
       "    <tr>\n",
       "      <th>0</th>\n",
       "      <td>Clientes Leais</td>\n",
       "      <td>305.2</td>\n",
       "      <td>2.4</td>\n",
       "      <td>356.9</td>\n",
       "      <td>6141</td>\n",
       "      <td>[Oferecer programas de fidelidade e venda cruz...</td>\n",
       "    </tr>\n",
       "    <tr>\n",
       "      <th>1</th>\n",
       "      <td>Clientes Leais que Compram com Frequência</td>\n",
       "      <td>146.1</td>\n",
       "      <td>1.9</td>\n",
       "      <td>619.3</td>\n",
       "      <td>14249</td>\n",
       "      <td>[Oferecer itens mais caros (Upsell)]</td>\n",
       "    </tr>\n",
       "    <tr>\n",
       "      <th>2</th>\n",
       "      <td>Clientes Perdidos</td>\n",
       "      <td>281.9</td>\n",
       "      <td>1.0</td>\n",
       "      <td>44.2</td>\n",
       "      <td>5638</td>\n",
       "      <td>[Não gaste muito tentando readquirir esse clie...</td>\n",
       "    </tr>\n",
       "    <tr>\n",
       "      <th>3</th>\n",
       "      <td>Clientes Precisam de Atenção</td>\n",
       "      <td>368.5</td>\n",
       "      <td>1.0</td>\n",
       "      <td>114.9</td>\n",
       "      <td>11043</td>\n",
       "      <td>[Incentivos de preço e oferta por tempo limitado]</td>\n",
       "    </tr>\n",
       "    <tr>\n",
       "      <th>4</th>\n",
       "      <td>Clientes Quase Perdidos</td>\n",
       "      <td>457.3</td>\n",
       "      <td>1.0</td>\n",
       "      <td>64.2</td>\n",
       "      <td>11595</td>\n",
       "      <td>[Oferecer Incentivos de preços agressivos]</td>\n",
       "    </tr>\n",
       "    <tr>\n",
       "      <th>5</th>\n",
       "      <td>Potenciais Clientes Leais</td>\n",
       "      <td>176.6</td>\n",
       "      <td>1.0</td>\n",
       "      <td>151.5</td>\n",
       "      <td>45421</td>\n",
       "      <td>[Recomendações de venda cruzada e cupons de de...</td>\n",
       "    </tr>\n",
       "  </tbody>\n",
       "</table>\n",
       "</div>"
      ],
      "text/plain": [
       "                              Client_Segment Recency Frequency Monetary  \\\n",
       "                                                mean      mean     mean   \n",
       "0                             Clientes Leais   305.2       2.4    356.9   \n",
       "1  Clientes Leais que Compram com Frequência   146.1       1.9    619.3   \n",
       "2                          Clientes Perdidos   281.9       1.0     44.2   \n",
       "3               Clientes Precisam de Atenção   368.5       1.0    114.9   \n",
       "4                    Clientes Quase Perdidos   457.3       1.0     64.2   \n",
       "5                  Potenciais Clientes Leais   176.6       1.0    151.5   \n",
       "\n",
       "                                           Marketing_Action  \n",
       "   count                                             unique  \n",
       "0   6141  [Oferecer programas de fidelidade e venda cruz...  \n",
       "1  14249               [Oferecer itens mais caros (Upsell)]  \n",
       "2   5638  [Não gaste muito tentando readquirir esse clie...  \n",
       "3  11043  [Incentivos de preço e oferta por tempo limitado]  \n",
       "4  11595         [Oferecer Incentivos de preços agressivos]  \n",
       "5  45421  [Recomendações de venda cruzada e cupons de de...  "
      ]
     },
     "execution_count": 144,
     "metadata": {},
     "output_type": "execute_result"
    }
   ],
   "source": [
    "# Ajuste do dataframe e reset do indice\n",
    "\n",
    "rfm_level_ag = pd.DataFrame(rfm_level_agg)\n",
    "rfm_level_ag = rfm_level_ag.reset_index()\n",
    "rfm_level_ag"
   ]
  },
  {
   "cell_type": "markdown",
   "metadata": {},
   "source": [
    "**Recomendações Para a Área de Negócio:**\n",
    "\n",
    "**Clientes Leais** - São os clientes mais leais. Eles são ativos com compras frequentes e alto valor monetário. Eles podem ser os evangelistas da marca e a empresa deve se concentrar em servi-los muito bem. Eles podem ser os melhores clientes para obter feedback sobre o lançamento de qualquer novo produto ou ser os primeiros a adotar ou promover novos produtos/serviços.\n",
    "\n",
    "**Potenciais Clientes Leais** - Alto potencial para entrar em nossos segmentos de clientes fiéis, por que não oferecer alguns brindes em sua próxima compra para mostrar que você os valoriza?\n",
    "\n",
    "**Clientes Que Precisam de Atenção** - Mostrando sinais promissores com a quantidade e valor de sua compra, mas já faz um tempo que não compram. Vamos direcioná-los para seus itens da lista de desejos e um desconto com oferta por tempo limitado.\n",
    "\n",
    "**Clientes Quase Perdidos** - Fizeram algumas compras iniciais, mas não voltaram desde então. Foi uma experiência ruim para o cliente? Ou adequação ao mercado do produto? Vamos gastar alguns recursos para construir o conhecimento de nossa marca com eles?\n",
    "\n",
    "**Clientes Leais Que Compram com Frequência** - É sempre uma boa ideia tratar cuidadosamente todos os novos clientes, mas como esses clientes gastaram muito em suas compras, são ainda mais valiosos. É importante fazer com que eles se sintam valorizados e apreciados - e dar-lhes incentivos incríveis para continuar a interagir com a marca.\n",
    "\n",
    "**Clientes VIP** - Buscam e querem mais do que preço. Programa de fidelidade ou produto/serviço exclusivo ou limitado são opções para manter esses clientes."
   ]
  },
  {
   "cell_type": "markdown",
   "metadata": {},
   "source": [
    "### Dashboard"
   ]
  },
  {
   "cell_type": "code",
   "execution_count": 148,
   "metadata": {},
   "outputs": [
    {
     "data": {
      "image/png": "[encoded data removed]",
      "text/plain": [
       "<Figure size 1600x1000 with 1 Axes>"
      ]
     },
     "metadata": {},
     "output_type": "display_data"
    }
   ],
   "source": [
    "#Plot\n",
    "rfm_level_agg.columns = ['RecencyMean', 'FrequencyMean', 'MonetaryMean', 'Count', 'MarketingAction']\n",
    "fig = plt.gcf()\n",
    "ax = fig.add_subplot()\n",
    "fig.set_size_inches(16, 10)\n",
    "sns.set(color_codes = True, style = 'whitegrid')\n",
    "squarify.plot(sizes = rfm_level_agg['Count'], \n",
    "              label = ['Clientes Leais Que Compram com Frequência',\n",
    "                       'Clientes Quase Perdidos',\n",
    "                       'Clientes Leais',\n",
    "                       'Clientes Que Precisam de Atenção',\n",
    "                       'Potenciais Clientes Leais',\n",
    "                       'Clientes VIP'], alpha=.6 )\n",
    "\n",
    "plt.title(\"\\nSegmentos RFM\\n\", fontsize = 25, fontweight = \"bold\")\n",
    "plt.axis('on')\n",
    "plt.show()"
   ]
  },
  {
   "cell_type": "code",
   "execution_count": 147,
   "metadata": {},
   "outputs": [
    {
     "data": {
      "application/vnd.plotly.v1+json": {
       "config": {
        "plotlyServerURL": "https://plot.ly"
       },
       "data": [
        {
         "labels": [
          "Clientes Leais",
          "Clientes Leais que Compram com Frequência",
          "Clientes Perdidos",
          "Clientes Precisam de Atenção",
          "Clientes Quase Perdidos",
          "Potenciais Clientes Leais"
         ],
         "parents": [
          "Client_Segment",
          "Client_Segment",
          "Client_Segment",
          "Client_Segment",
          "Client_Segment",
          "Client_Segment",
          "Client_Segment"
         ],
         "type": "treemap",
         "values": [
          6141,
          14249,
          5638,
          11043,
          11595,
          45421
         ]
        }
       ],
       "layout": {
        "template": {
         "data": {
          "bar": [
           {
            "error_x": {
             "color": "#2a3f5f"
            },
            "error_y": {
             "color": "#2a3f5f"
            },
            "marker": {
             "line": {
              "color": "#E5ECF6",
              "width": 0.5
             },
             "pattern": {
              "fillmode": "overlay",
              "size": 10,
              "solidity": 0.2
             }
            },
            "type": "bar"
           }
          ],
          "barpolar": [
           {
            "marker": {
             "line": {
              "color": "#E5ECF6",
              "width": 0.5
             },
             "pattern": {
              "fillmode": "overlay",
              "size": 10,
              "solidity": 0.2
             }
            },
            "type": "barpolar"
           }
          ],
          "carpet": [
           {
            "aaxis": {
             "endlinecolor": "#2a3f5f",
             "gridcolor": "white",
             "linecolor": "white",
             "minorgridcolor": "white",
             "startlinecolor": "#2a3f5f"
            },
            "baxis": {
             "endlinecolor": "#2a3f5f",
             "gridcolor": "white",
             "linecolor": "white",
             "minorgridcolor": "white",
             "startlinecolor": "#2a3f5f"
            },
            "type": "carpet"
           }
          ],
          "choropleth": [
           {
            "colorbar": {
             "outlinewidth": 0,
             "ticks": ""
            },
            "type": "choropleth"
           }
          ],
          "contour": [
           {
            "colorbar": {
             "outlinewidth": 0,
             "ticks": ""
            },
            "colorscale": [
             [
              0,
              "#0d0887"
             ],
             [
              0.1111111111111111,
              "#46039f"
             ],
             [
              0.2222222222222222,
              "#7201a8"
             ],
             [
              0.3333333333333333,
              "#9c179e"
             ],
             [
              0.4444444444444444,
              "#bd3786"
             ],
             [
              0.5555555555555556,
              "#d8576b"
             ],
             [
              0.6666666666666666,
              "#ed7953"
             ],
             [
              0.7777777777777778,
              "#fb9f3a"
             ],
             [
              0.8888888888888888,
              "#fdca26"
             ],
             [
              1,
              "#f0f921"
             ]
            ],
            "type": "contour"
           }
          ],
          "contourcarpet": [
           {
            "colorbar": {
             "outlinewidth": 0,
             "ticks": ""
            },
            "type": "contourcarpet"
           }
          ],
          "heatmap": [
           {
            "colorbar": {
             "outlinewidth": 0,
             "ticks": ""
            },
            "colorscale": [
             [
              0,
              "#0d0887"
             ],
             [
              0.1111111111111111,
              "#46039f"
             ],
             [
              0.2222222222222222,
              "#7201a8"
             ],
             [
              0.3333333333333333,
              "#9c179e"
             ],
             [
              0.4444444444444444,
              "#bd3786"
             ],
             [
              0.5555555555555556,
              "#d8576b"
             ],
             [
              0.6666666666666666,
              "#ed7953"
             ],
             [
              0.7777777777777778,
              "#fb9f3a"
             ],
             [
              0.8888888888888888,
              "#fdca26"
             ],
             [
              1,
              "#f0f921"
             ]
            ],
            "type": "heatmap"
           }
          ],
          "heatmapgl": [
           {
            "colorbar": {
             "outlinewidth": 0,
             "ticks": ""
            },
            "colorscale": [
             [
              0,
              "#0d0887"
             ],
             [
              0.1111111111111111,
              "#46039f"
             ],
             [
              0.2222222222222222,
              "#7201a8"
             ],
             [
              0.3333333333333333,
              "#9c179e"
             ],
             [
              0.4444444444444444,
              "#bd3786"
             ],
             [
              0.5555555555555556,
              "#d8576b"
             ],
             [
              0.6666666666666666,
              "#ed7953"
             ],
             [
              0.7777777777777778,
              "#fb9f3a"
             ],
             [
              0.8888888888888888,
              "#fdca26"
             ],
             [
              1,
              "#f0f921"
             ]
            ],
            "type": "heatmapgl"
           }
          ],
          "histogram": [
           {
            "marker": {
             "pattern": {
              "fillmode": "overlay",
              "size": 10,
              "solidity": 0.2
             }
            },
            "type": "histogram"
           }
          ],
          "histogram2d": [
           {
            "colorbar": {
             "outlinewidth": 0,
             "ticks": ""
            },
            "colorscale": [
             [
              0,
              "#0d0887"
             ],
             [
              0.1111111111111111,
              "#46039f"
             ],
             [
              0.2222222222222222,
              "#7201a8"
             ],
             [
              0.3333333333333333,
              "#9c179e"
             ],
             [
              0.4444444444444444,
              "#bd3786"
             ],
             [
              0.5555555555555556,
              "#d8576b"
             ],
             [
              0.6666666666666666,
              "#ed7953"
             ],
             [
              0.7777777777777778,
              "#fb9f3a"
             ],
             [
              0.8888888888888888,
              "#fdca26"
             ],
             [
              1,
              "#f0f921"
             ]
            ],
            "type": "histogram2d"
           }
          ],
          "histogram2dcontour": [
           {
            "colorbar": {
             "outlinewidth": 0,
             "ticks": ""
            },
            "colorscale": [
             [
              0,
              "#0d0887"
             ],
             [
              0.1111111111111111,
              "#46039f"
             ],
             [
              0.2222222222222222,
              "#7201a8"
             ],
             [
              0.3333333333333333,
              "#9c179e"
             ],
             [
              0.4444444444444444,
              "#bd3786"
             ],
             [
              0.5555555555555556,
              "#d8576b"
             ],
             [
              0.6666666666666666,
              "#ed7953"
             ],
             [
              0.7777777777777778,
              "#fb9f3a"
             ],
             [
              0.8888888888888888,
              "#fdca26"
             ],
             [
              1,
              "#f0f921"
             ]
            ],
            "type": "histogram2dcontour"
           }
          ],
          "mesh3d": [
           {
            "colorbar": {
             "outlinewidth": 0,
             "ticks": ""
            },
            "type": "mesh3d"
           }
          ],
          "parcoords": [
           {
            "line": {
             "colorbar": {
              "outlinewidth": 0,
              "ticks": ""
             }
            },
            "type": "parcoords"
           }
          ],
          "pie": [
           {
            "automargin": true,
            "type": "pie"
           }
          ],
          "scatter": [
           {
            "fillpattern": {
             "fillmode": "overlay",
             "size": 10,
             "solidity": 0.2
            },
            "type": "scatter"
           }
          ],
          "scatter3d": [
           {
            "line": {
             "colorbar": {
              "outlinewidth": 0,
              "ticks": ""
             }
            },
            "marker": {
             "colorbar": {
              "outlinewidth": 0,
              "ticks": ""
             }
            },
            "type": "scatter3d"
           }
          ],
          "scattercarpet": [
           {
            "marker": {
             "colorbar": {
              "outlinewidth": 0,
              "ticks": ""
             }
            },
            "type": "scattercarpet"
           }
          ],
          "scattergeo": [
           {
            "marker": {
             "colorbar": {
              "outlinewidth": 0,
              "ticks": ""
             }
            },
            "type": "scattergeo"
           }
          ],
          "scattergl": [
           {
            "marker": {
             "colorbar": {
              "outlinewidth": 0,
              "ticks": ""
             }
            },
            "type": "scattergl"
           }
          ],
          "scattermapbox": [
           {
            "marker": {
             "colorbar": {
              "outlinewidth": 0,
              "ticks": ""
             }
            },
            "type": "scattermapbox"
           }
          ],
          "scatterpolar": [
           {
            "marker": {
             "colorbar": {
              "outlinewidth": 0,
              "ticks": ""
             }
            },
            "type": "scatterpolar"
           }
          ],
          "scatterpolargl": [
           {
            "marker": {
             "colorbar": {
              "outlinewidth": 0,
              "ticks": ""
             }
            },
            "type": "scatterpolargl"
           }
          ],
          "scatterternary": [
           {
            "marker": {
             "colorbar": {
              "outlinewidth": 0,
              "ticks": ""
             }
            },
            "type": "scatterternary"
           }
          ],
          "surface": [
           {
            "colorbar": {
             "outlinewidth": 0,
             "ticks": ""
            },
            "colorscale": [
             [
              0,
              "#0d0887"
             ],
             [
              0.1111111111111111,
              "#46039f"
             ],
             [
              0.2222222222222222,
              "#7201a8"
             ],
             [
              0.3333333333333333,
              "#9c179e"
             ],
             [
              0.4444444444444444,
              "#bd3786"
             ],
             [
              0.5555555555555556,
              "#d8576b"
             ],
             [
              0.6666666666666666,
              "#ed7953"
             ],
             [
              0.7777777777777778,
              "#fb9f3a"
             ],
             [
              0.8888888888888888,
              "#fdca26"
             ],
             [
              1,
              "#f0f921"
             ]
            ],
            "type": "surface"
           }
          ],
          "table": [
           {
            "cells": {
             "fill": {
              "color": "#EBF0F8"
             },
             "line": {
              "color": "white"
             }
            },
            "header": {
             "fill": {
              "color": "#C8D4E3"
             },
             "line": {
              "color": "white"
             }
            },
            "type": "table"
           }
          ]
         },
         "layout": {
          "annotationdefaults": {
           "arrowcolor": "#2a3f5f",
           "arrowhead": 0,
           "arrowwidth": 1
          },
          "autotypenumbers": "strict",
          "coloraxis": {
           "colorbar": {
            "outlinewidth": 0,
            "ticks": ""
           }
          },
          "colorscale": {
           "diverging": [
            [
             0,
             "#8e0152"
            ],
            [
             0.1,
             "#c51b7d"
            ],
            [
             0.2,
             "#de77ae"
            ],
            [
             0.3,
             "#f1b6da"
            ],
            [
             0.4,
             "#fde0ef"
            ],
            [
             0.5,
             "#f7f7f7"
            ],
            [
             0.6,
             "#e6f5d0"
            ],
            [
             0.7,
             "#b8e186"
            ],
            [
             0.8,
             "#7fbc41"
            ],
            [
             0.9,
             "#4d9221"
            ],
            [
             1,
             "#276419"
            ]
           ],
           "sequential": [
            [
             0,
             "#0d0887"
            ],
            [
             0.1111111111111111,
             "#46039f"
            ],
            [
             0.2222222222222222,
             "#7201a8"
            ],
            [
             0.3333333333333333,
             "#9c179e"
            ],
            [
             0.4444444444444444,
             "#bd3786"
            ],
            [
             0.5555555555555556,
             "#d8576b"
            ],
            [
             0.6666666666666666,
             "#ed7953"
            ],
            [
             0.7777777777777778,
             "#fb9f3a"
            ],
            [
             0.8888888888888888,
             "#fdca26"
            ],
            [
             1,
             "#f0f921"
            ]
           ],
           "sequentialminus": [
            [
             0,
             "#0d0887"
            ],
            [
             0.1111111111111111,
             "#46039f"
            ],
            [
             0.2222222222222222,
             "#7201a8"
            ],
            [
             0.3333333333333333,
             "#9c179e"
            ],
            [
             0.4444444444444444,
             "#bd3786"
            ],
            [
             0.5555555555555556,
             "#d8576b"
            ],
            [
             0.6666666666666666,
             "#ed7953"
            ],
            [
             0.7777777777777778,
             "#fb9f3a"
            ],
            [
             0.8888888888888888,
             "#fdca26"
            ],
            [
             1,
             "#f0f921"
            ]
           ]
          },
          "colorway": [
           "#636efa",
           "#EF553B",
           "#00cc96",
           "#ab63fa",
           "#FFA15A",
           "#19d3f3",
           "#FF6692",
           "#B6E880",
           "#FF97FF",
           "#FECB52"
          ],
          "font": {
           "color": "#2a3f5f"
          },
          "geo": {
           "bgcolor": "white",
           "lakecolor": "white",
           "landcolor": "#E5ECF6",
           "showlakes": true,
           "showland": true,
           "subunitcolor": "white"
          },
          "hoverlabel": {
           "align": "left"
          },
          "hovermode": "closest",
          "mapbox": {
           "style": "light"
          },
          "paper_bgcolor": "white",
          "plot_bgcolor": "#E5ECF6",
          "polar": {
           "angularaxis": {
            "gridcolor": "white",
            "linecolor": "white",
            "ticks": ""
           },
           "bgcolor": "#E5ECF6",
           "radialaxis": {
            "gridcolor": "white",
            "linecolor": "white",
            "ticks": ""
           }
          },
          "scene": {
           "xaxis": {
            "backgroundcolor": "#E5ECF6",
            "gridcolor": "white",
            "gridwidth": 2,
            "linecolor": "white",
            "showbackground": true,
            "ticks": "",
            "zerolinecolor": "white"
           },
           "yaxis": {
            "backgroundcolor": "#E5ECF6",
            "gridcolor": "white",
            "gridwidth": 2,
            "linecolor": "white",
            "showbackground": true,
            "ticks": "",
            "zerolinecolor": "white"
           },
           "zaxis": {
            "backgroundcolor": "#E5ECF6",
            "gridcolor": "white",
            "gridwidth": 2,
            "linecolor": "white",
            "showbackground": true,
            "ticks": "",
            "zerolinecolor": "white"
           }
          },
          "shapedefaults": {
           "line": {
            "color": "#2a3f5f"
           }
          },
          "ternary": {
           "aaxis": {
            "gridcolor": "white",
            "linecolor": "white",
            "ticks": ""
           },
           "baxis": {
            "gridcolor": "white",
            "linecolor": "white",
            "ticks": ""
           },
           "bgcolor": "#E5ECF6",
           "caxis": {
            "gridcolor": "white",
            "linecolor": "white",
            "ticks": ""
           }
          },
          "title": {
           "x": 0.05
          },
          "xaxis": {
           "automargin": true,
           "gridcolor": "white",
           "linecolor": "white",
           "ticks": "",
           "title": {
            "standoff": 15
           },
           "zerolinecolor": "white",
           "zerolinewidth": 2
          },
          "yaxis": {
           "automargin": true,
           "gridcolor": "white",
           "linecolor": "white",
           "ticks": "",
           "title": {
            "standoff": 15
           },
           "zerolinecolor": "white",
           "zerolinewidth": 2
          }
         }
        }
       }
      }
     },
     "metadata": {},
     "output_type": "display_data"
    }
   ],
   "source": [
    "fig = go.Figure(go.Treemap(\n",
    "    labels = rfm_level_ag['Client_Segment'],\n",
    "    parents = ['Client_Segment', \n",
    "               'Client_Segment', \n",
    "               'Client_Segment', \n",
    "               'Client_Segment', \n",
    "               'Client_Segment', \n",
    "               'Client_Segment', \n",
    "               'Client_Segment'],  \n",
    "    values = rfm_level_ag[('Monetary', 'count')]))\n",
    "fig.show()"
   ]
  }
 ],
 "metadata": {
  "kernelspec": {
   "display_name": "base",
   "language": "python",
   "name": "python3"
  },
  "language_info": {
   "codemirror_mode": {
    "name": "ipython",
    "version": 3
   },
   "file_extension": ".py",
   "mimetype": "text/x-python",
   "name": "python",
   "nbconvert_exporter": "python",
   "pygments_lexer": "ipython3",
   "version": "3.12.4"
  }
 },
 "nbformat": 4,
 "nbformat_minor": 2
}
